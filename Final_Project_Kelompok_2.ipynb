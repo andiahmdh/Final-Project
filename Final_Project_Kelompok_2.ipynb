{
  "cells": [
    {
      "cell_type": "markdown",
      "metadata": {
        "id": "PKTQk6-FdwII"
      },
      "source": [
        "###Assigment\n",
        "\n",
        "Your notebooks must contain the following steps:\n",
        "\n",
        "1.  a. Perform data cleaning and pre-processing.\n",
        "    b. What steps did you use in this process and how did you clean your data.\n",
        "2.  a. Perform exploratory data analysis on the given dataset.\n",
        "    b. Explain each and every graphs that you make.\n",
        "3.  a. Train a ml-model and evaluate it using different metrics.\n",
        "    b. Why did you choose that particular model? What was the accuracy?\n",
        "    c. Hyperparameter optimization and feature selection is a plus.\n",
        "4.  a. Model deployment and use of ml-flow is a plus.\n",
        "    b. Perform model interpretation and show feature importance for your model.\n",
        "    c. Provide some explanation for the above point.\n",
        "\n",
        "\n",
        "\n",
        "**Gunakan df untuk EDA dan df_enc untuk train model**\n",
        "\n",
        "\n",
        "Notes: Sebelum melakukan EDA running code semua terlebih dahulu"
      ]
    },
    {
      "cell_type": "code",
      "execution_count": 1,
      "metadata": {
        "id": "vBYGsFhCdwIL"
      },
      "outputs": [],
      "source": [
        "#import library\n",
        "import pandas as pd\n",
        "import numpy as np\n",
        "\n",
        "#import visualization library\n",
        "import matplotlib.pyplot as plt\n",
        "import seaborn as sns\n",
        "\n",
        "#import ML Data Pre-Processing\n",
        "from sklearn.impute import SimpleImputer\n",
        "from sklearn.model_selection import train_test_split as holdout\n",
        "from sklearn.preprocessing import LabelEncoder, OneHotEncoder, MinMaxScaler, RobustScaler, StandardScaler\n",
        "from sklearn.linear_model import LinearRegression\n",
        "from sklearn.metrics import accuracy_score\n",
        "from sklearn import metrics\n",
        "\n",
        "from sklearn.model_selection import (\n",
        "    KFold, cross_val_score, GridSearchCV)\n",
        "\n",
        "\n",
        "#pd.set_option('display.max_rows', None)"
      ]
    },
    {
      "cell_type": "code",
      "execution_count": 2,
      "metadata": {
        "id": "sAQPA5hidwIO"
      },
      "outputs": [],
      "source": [
        "df = pd.read_csv(\"car_price_prediction.csv\",\n",
        "                 na_values={\n",
        "                     'Levy': '-',\n",
        "                     'Mileage': '0 km',\n",
        "                     'Engine volume': ['0', '20']\n",
        "                 })"
      ]
    },
    {
      "cell_type": "code",
      "execution_count": 3,
      "metadata": {
        "colab": {
          "base_uri": "https://localhost:8080/",
          "height": 310
        },
        "id": "_PMl2FPZdwIO",
        "outputId": "1bccb3ab-2134-4d52-c3a9-d511ea127e6e"
      },
      "outputs": [
        {
          "data": {
            "text/html": [
              "<div>\n",
              "<style scoped>\n",
              "    .dataframe tbody tr th:only-of-type {\n",
              "        vertical-align: middle;\n",
              "    }\n",
              "\n",
              "    .dataframe tbody tr th {\n",
              "        vertical-align: top;\n",
              "    }\n",
              "\n",
              "    .dataframe thead th {\n",
              "        text-align: right;\n",
              "    }\n",
              "</style>\n",
              "<table border=\"1\" class=\"dataframe\">\n",
              "  <thead>\n",
              "    <tr style=\"text-align: right;\">\n",
              "      <th></th>\n",
              "      <th>ID</th>\n",
              "      <th>Price</th>\n",
              "      <th>Levy</th>\n",
              "      <th>Manufacturer</th>\n",
              "      <th>Model</th>\n",
              "      <th>Prod. year</th>\n",
              "      <th>Category</th>\n",
              "      <th>Leather interior</th>\n",
              "      <th>Fuel type</th>\n",
              "      <th>Engine volume</th>\n",
              "      <th>Mileage</th>\n",
              "      <th>Cylinders</th>\n",
              "      <th>Gear box type</th>\n",
              "      <th>Drive wheels</th>\n",
              "      <th>Doors</th>\n",
              "      <th>Wheel</th>\n",
              "      <th>Color</th>\n",
              "      <th>Airbags</th>\n",
              "    </tr>\n",
              "  </thead>\n",
              "  <tbody>\n",
              "    <tr>\n",
              "      <th>0</th>\n",
              "      <td>45654403</td>\n",
              "      <td>13328</td>\n",
              "      <td>1399.0</td>\n",
              "      <td>LEXUS</td>\n",
              "      <td>RX 450</td>\n",
              "      <td>2010</td>\n",
              "      <td>Jeep</td>\n",
              "      <td>Yes</td>\n",
              "      <td>Hybrid</td>\n",
              "      <td>3.5</td>\n",
              "      <td>186005 km</td>\n",
              "      <td>6.0</td>\n",
              "      <td>Automatic</td>\n",
              "      <td>4x4</td>\n",
              "      <td>04-May</td>\n",
              "      <td>Left wheel</td>\n",
              "      <td>Silver</td>\n",
              "      <td>12</td>\n",
              "    </tr>\n",
              "    <tr>\n",
              "      <th>1</th>\n",
              "      <td>44731507</td>\n",
              "      <td>16621</td>\n",
              "      <td>1018.0</td>\n",
              "      <td>CHEVROLET</td>\n",
              "      <td>Equinox</td>\n",
              "      <td>2011</td>\n",
              "      <td>Jeep</td>\n",
              "      <td>No</td>\n",
              "      <td>Petrol</td>\n",
              "      <td>3</td>\n",
              "      <td>192000 km</td>\n",
              "      <td>6.0</td>\n",
              "      <td>Tiptronic</td>\n",
              "      <td>4x4</td>\n",
              "      <td>04-May</td>\n",
              "      <td>Left wheel</td>\n",
              "      <td>Black</td>\n",
              "      <td>8</td>\n",
              "    </tr>\n",
              "    <tr>\n",
              "      <th>2</th>\n",
              "      <td>45774419</td>\n",
              "      <td>8467</td>\n",
              "      <td>NaN</td>\n",
              "      <td>HONDA</td>\n",
              "      <td>FIT</td>\n",
              "      <td>2006</td>\n",
              "      <td>Hatchback</td>\n",
              "      <td>No</td>\n",
              "      <td>Petrol</td>\n",
              "      <td>1.3</td>\n",
              "      <td>200000 km</td>\n",
              "      <td>4.0</td>\n",
              "      <td>Variator</td>\n",
              "      <td>Front</td>\n",
              "      <td>04-May</td>\n",
              "      <td>Right-hand drive</td>\n",
              "      <td>Black</td>\n",
              "      <td>2</td>\n",
              "    </tr>\n",
              "    <tr>\n",
              "      <th>3</th>\n",
              "      <td>45769185</td>\n",
              "      <td>3607</td>\n",
              "      <td>862.0</td>\n",
              "      <td>FORD</td>\n",
              "      <td>Escape</td>\n",
              "      <td>2011</td>\n",
              "      <td>Jeep</td>\n",
              "      <td>Yes</td>\n",
              "      <td>Hybrid</td>\n",
              "      <td>2.5</td>\n",
              "      <td>168966 km</td>\n",
              "      <td>4.0</td>\n",
              "      <td>Automatic</td>\n",
              "      <td>4x4</td>\n",
              "      <td>04-May</td>\n",
              "      <td>Left wheel</td>\n",
              "      <td>White</td>\n",
              "      <td>0</td>\n",
              "    </tr>\n",
              "    <tr>\n",
              "      <th>4</th>\n",
              "      <td>45809263</td>\n",
              "      <td>11726</td>\n",
              "      <td>446.0</td>\n",
              "      <td>HONDA</td>\n",
              "      <td>FIT</td>\n",
              "      <td>2014</td>\n",
              "      <td>Hatchback</td>\n",
              "      <td>Yes</td>\n",
              "      <td>Petrol</td>\n",
              "      <td>1.3</td>\n",
              "      <td>91901 km</td>\n",
              "      <td>4.0</td>\n",
              "      <td>Automatic</td>\n",
              "      <td>Front</td>\n",
              "      <td>04-May</td>\n",
              "      <td>Left wheel</td>\n",
              "      <td>Silver</td>\n",
              "      <td>4</td>\n",
              "    </tr>\n",
              "  </tbody>\n",
              "</table>\n",
              "</div>"
            ],
            "text/plain": [
              "         ID  Price    Levy Manufacturer    Model  Prod. year   Category  \\\n",
              "0  45654403  13328  1399.0        LEXUS   RX 450        2010       Jeep   \n",
              "1  44731507  16621  1018.0    CHEVROLET  Equinox        2011       Jeep   \n",
              "2  45774419   8467     NaN        HONDA      FIT        2006  Hatchback   \n",
              "3  45769185   3607   862.0         FORD   Escape        2011       Jeep   \n",
              "4  45809263  11726   446.0        HONDA      FIT        2014  Hatchback   \n",
              "\n",
              "  Leather interior Fuel type Engine volume    Mileage  Cylinders  \\\n",
              "0              Yes    Hybrid           3.5  186005 km        6.0   \n",
              "1               No    Petrol             3  192000 km        6.0   \n",
              "2               No    Petrol           1.3  200000 km        4.0   \n",
              "3              Yes    Hybrid           2.5  168966 km        4.0   \n",
              "4              Yes    Petrol           1.3   91901 km        4.0   \n",
              "\n",
              "  Gear box type Drive wheels   Doors             Wheel   Color  Airbags  \n",
              "0     Automatic          4x4  04-May        Left wheel  Silver       12  \n",
              "1     Tiptronic          4x4  04-May        Left wheel   Black        8  \n",
              "2      Variator        Front  04-May  Right-hand drive   Black        2  \n",
              "3     Automatic          4x4  04-May        Left wheel   White        0  \n",
              "4     Automatic        Front  04-May        Left wheel  Silver        4  "
            ]
          },
          "execution_count": 3,
          "metadata": {},
          "output_type": "execute_result"
        }
      ],
      "source": [
        "df.head()"
      ]
    },
    {
      "cell_type": "markdown",
      "metadata": {
        "id": "d7T49Y3gdwIR"
      },
      "source": [
        "### <b><span style='color:#85BB65'>|</span> Data Cleaning and Data Preprocessing</b>"
      ]
    },
    {
      "cell_type": "code",
      "execution_count": 4,
      "metadata": {
        "id": "gx6p_SMhdwIR"
      },
      "outputs": [],
      "source": [
        "#Membuat nama kolom menjadi format yang mudah diolah oleh pandas\n",
        "df.columns = df.columns.str.strip().str.lower().str.replace(' ', '_').str.replace('.','')"
      ]
    },
    {
      "cell_type": "code",
      "execution_count": 5,
      "metadata": {
        "colab": {
          "base_uri": "https://localhost:8080/",
          "height": 330
        },
        "id": "4C_xrpyadwIR",
        "outputId": "a1135e87-3900-4953-94a4-7e3e77ad5fba"
      },
      "outputs": [
        {
          "data": {
            "text/html": [
              "<div>\n",
              "<style scoped>\n",
              "    .dataframe tbody tr th:only-of-type {\n",
              "        vertical-align: middle;\n",
              "    }\n",
              "\n",
              "    .dataframe tbody tr th {\n",
              "        vertical-align: top;\n",
              "    }\n",
              "\n",
              "    .dataframe thead th {\n",
              "        text-align: right;\n",
              "    }\n",
              "</style>\n",
              "<table border=\"1\" class=\"dataframe\">\n",
              "  <thead>\n",
              "    <tr style=\"text-align: right;\">\n",
              "      <th></th>\n",
              "      <th>id</th>\n",
              "      <th>price</th>\n",
              "      <th>levy</th>\n",
              "      <th>manufacturer</th>\n",
              "      <th>model</th>\n",
              "      <th>prod_year</th>\n",
              "      <th>category</th>\n",
              "      <th>leather_interior</th>\n",
              "      <th>fuel_type</th>\n",
              "      <th>engine_volume</th>\n",
              "      <th>mileage</th>\n",
              "      <th>cylinders</th>\n",
              "      <th>gear_box_type</th>\n",
              "      <th>drive_wheels</th>\n",
              "      <th>doors</th>\n",
              "      <th>wheel</th>\n",
              "      <th>color</th>\n",
              "      <th>airbags</th>\n",
              "    </tr>\n",
              "  </thead>\n",
              "  <tbody>\n",
              "    <tr>\n",
              "      <th>0</th>\n",
              "      <td>45654403</td>\n",
              "      <td>13328</td>\n",
              "      <td>1399.0</td>\n",
              "      <td>LEXUS</td>\n",
              "      <td>RX 450</td>\n",
              "      <td>2010</td>\n",
              "      <td>Jeep</td>\n",
              "      <td>Yes</td>\n",
              "      <td>Hybrid</td>\n",
              "      <td>3.5</td>\n",
              "      <td>186005 km</td>\n",
              "      <td>6.0</td>\n",
              "      <td>Automatic</td>\n",
              "      <td>4x4</td>\n",
              "      <td>04-May</td>\n",
              "      <td>Left wheel</td>\n",
              "      <td>Silver</td>\n",
              "      <td>12</td>\n",
              "    </tr>\n",
              "    <tr>\n",
              "      <th>1</th>\n",
              "      <td>44731507</td>\n",
              "      <td>16621</td>\n",
              "      <td>1018.0</td>\n",
              "      <td>CHEVROLET</td>\n",
              "      <td>Equinox</td>\n",
              "      <td>2011</td>\n",
              "      <td>Jeep</td>\n",
              "      <td>No</td>\n",
              "      <td>Petrol</td>\n",
              "      <td>3</td>\n",
              "      <td>192000 km</td>\n",
              "      <td>6.0</td>\n",
              "      <td>Tiptronic</td>\n",
              "      <td>4x4</td>\n",
              "      <td>04-May</td>\n",
              "      <td>Left wheel</td>\n",
              "      <td>Black</td>\n",
              "      <td>8</td>\n",
              "    </tr>\n",
              "    <tr>\n",
              "      <th>2</th>\n",
              "      <td>45774419</td>\n",
              "      <td>8467</td>\n",
              "      <td>NaN</td>\n",
              "      <td>HONDA</td>\n",
              "      <td>FIT</td>\n",
              "      <td>2006</td>\n",
              "      <td>Hatchback</td>\n",
              "      <td>No</td>\n",
              "      <td>Petrol</td>\n",
              "      <td>1.3</td>\n",
              "      <td>200000 km</td>\n",
              "      <td>4.0</td>\n",
              "      <td>Variator</td>\n",
              "      <td>Front</td>\n",
              "      <td>04-May</td>\n",
              "      <td>Right-hand drive</td>\n",
              "      <td>Black</td>\n",
              "      <td>2</td>\n",
              "    </tr>\n",
              "    <tr>\n",
              "      <th>3</th>\n",
              "      <td>45769185</td>\n",
              "      <td>3607</td>\n",
              "      <td>862.0</td>\n",
              "      <td>FORD</td>\n",
              "      <td>Escape</td>\n",
              "      <td>2011</td>\n",
              "      <td>Jeep</td>\n",
              "      <td>Yes</td>\n",
              "      <td>Hybrid</td>\n",
              "      <td>2.5</td>\n",
              "      <td>168966 km</td>\n",
              "      <td>4.0</td>\n",
              "      <td>Automatic</td>\n",
              "      <td>4x4</td>\n",
              "      <td>04-May</td>\n",
              "      <td>Left wheel</td>\n",
              "      <td>White</td>\n",
              "      <td>0</td>\n",
              "    </tr>\n",
              "    <tr>\n",
              "      <th>4</th>\n",
              "      <td>45809263</td>\n",
              "      <td>11726</td>\n",
              "      <td>446.0</td>\n",
              "      <td>HONDA</td>\n",
              "      <td>FIT</td>\n",
              "      <td>2014</td>\n",
              "      <td>Hatchback</td>\n",
              "      <td>Yes</td>\n",
              "      <td>Petrol</td>\n",
              "      <td>1.3</td>\n",
              "      <td>91901 km</td>\n",
              "      <td>4.0</td>\n",
              "      <td>Automatic</td>\n",
              "      <td>Front</td>\n",
              "      <td>04-May</td>\n",
              "      <td>Left wheel</td>\n",
              "      <td>Silver</td>\n",
              "      <td>4</td>\n",
              "    </tr>\n",
              "  </tbody>\n",
              "</table>\n",
              "</div>"
            ],
            "text/plain": [
              "         id  price    levy manufacturer    model  prod_year   category  \\\n",
              "0  45654403  13328  1399.0        LEXUS   RX 450       2010       Jeep   \n",
              "1  44731507  16621  1018.0    CHEVROLET  Equinox       2011       Jeep   \n",
              "2  45774419   8467     NaN        HONDA      FIT       2006  Hatchback   \n",
              "3  45769185   3607   862.0         FORD   Escape       2011       Jeep   \n",
              "4  45809263  11726   446.0        HONDA      FIT       2014  Hatchback   \n",
              "\n",
              "  leather_interior fuel_type engine_volume    mileage  cylinders  \\\n",
              "0              Yes    Hybrid           3.5  186005 km        6.0   \n",
              "1               No    Petrol             3  192000 km        6.0   \n",
              "2               No    Petrol           1.3  200000 km        4.0   \n",
              "3              Yes    Hybrid           2.5  168966 km        4.0   \n",
              "4              Yes    Petrol           1.3   91901 km        4.0   \n",
              "\n",
              "  gear_box_type drive_wheels   doors             wheel   color  airbags  \n",
              "0     Automatic          4x4  04-May        Left wheel  Silver       12  \n",
              "1     Tiptronic          4x4  04-May        Left wheel   Black        8  \n",
              "2      Variator        Front  04-May  Right-hand drive   Black        2  \n",
              "3     Automatic          4x4  04-May        Left wheel   White        0  \n",
              "4     Automatic        Front  04-May        Left wheel  Silver        4  "
            ]
          },
          "execution_count": 5,
          "metadata": {},
          "output_type": "execute_result"
        }
      ],
      "source": [
        "df.head()"
      ]
    },
    {
      "cell_type": "code",
      "execution_count": 6,
      "metadata": {
        "colab": {
          "base_uri": "https://localhost:8080/"
        },
        "id": "evAzyVr0dwIS",
        "outputId": "41f12809-a60e-41ce-f810-921c25cd0e27"
      },
      "outputs": [
        {
          "name": "stdout",
          "output_type": "stream",
          "text": [
            "<class 'pandas.core.frame.DataFrame'>\n",
            "RangeIndex: 19237 entries, 0 to 19236\n",
            "Data columns (total 18 columns):\n",
            " #   Column            Non-Null Count  Dtype  \n",
            "---  ------            --------------  -----  \n",
            " 0   id                19237 non-null  int64  \n",
            " 1   price             19237 non-null  int64  \n",
            " 2   levy              13418 non-null  float64\n",
            " 3   manufacturer      19237 non-null  object \n",
            " 4   model             19237 non-null  object \n",
            " 5   prod_year         19237 non-null  int64  \n",
            " 6   category          19237 non-null  object \n",
            " 7   leather_interior  19237 non-null  object \n",
            " 8   fuel_type         19237 non-null  object \n",
            " 9   engine_volume     19225 non-null  object \n",
            " 10  mileage           18516 non-null  object \n",
            " 11  cylinders         19237 non-null  float64\n",
            " 12  gear_box_type     19237 non-null  object \n",
            " 13  drive_wheels      19237 non-null  object \n",
            " 14  doors             19237 non-null  object \n",
            " 15  wheel             19237 non-null  object \n",
            " 16  color             19237 non-null  object \n",
            " 17  airbags           19237 non-null  int64  \n",
            "dtypes: float64(2), int64(4), object(12)\n",
            "memory usage: 2.6+ MB\n"
          ]
        }
      ],
      "source": [
        "df.info()"
      ]
    },
    {
      "cell_type": "code",
      "execution_count": 7,
      "metadata": {
        "id": "RY8O7rVLdwIS"
      },
      "outputs": [],
      "source": [
        "#replace irrelevant data in certain columns\n",
        "df['mileage'] = df['mileage'].str.replace(' km', '')\n",
        "df['doors'] = df['doors'].replace({'04-May':'4','02-Mar':'2','>5':'5'})\n",
        "df['engine_volume'] = df['engine_volume'].str.replace(' Turbo', '')\n",
        "df['cylinders'] = df['cylinders'].astype('float32')"
      ]
    },
    {
      "cell_type": "code",
      "execution_count": 8,
      "metadata": {
        "colab": {
          "base_uri": "https://localhost:8080/"
        },
        "id": "jMWkxJCsdwIS",
        "outputId": "866ec216-96a0-499e-cd08-25a97ea57a2e"
      },
      "outputs": [
        {
          "data": {
            "text/plain": [
              "313"
            ]
          },
          "execution_count": 8,
          "metadata": {},
          "output_type": "execute_result"
        }
      ],
      "source": [
        "df.duplicated().sum()"
      ]
    },
    {
      "cell_type": "code",
      "execution_count": 9,
      "metadata": {
        "colab": {
          "base_uri": "https://localhost:8080/"
        },
        "id": "ZNCsJIhidwIT",
        "outputId": "643745c6-2ddc-4ce7-ff23-f69aae2d7e3c"
      },
      "outputs": [
        {
          "data": {
            "text/plain": [
              "0"
            ]
          },
          "execution_count": 9,
          "metadata": {},
          "output_type": "execute_result"
        }
      ],
      "source": [
        "df.drop_duplicates(inplace=True)\n",
        "df.duplicated().sum()"
      ]
    },
    {
      "cell_type": "code",
      "execution_count": 10,
      "metadata": {
        "colab": {
          "base_uri": "https://localhost:8080/"
        },
        "id": "P2vaIIKldwIT",
        "outputId": "a8ecfbe9-4f95-431c-9048-19fe7bfef4f8"
      },
      "outputs": [
        {
          "data": {
            "text/plain": [
              "id                     0\n",
              "price                  0\n",
              "levy                5709\n",
              "manufacturer           0\n",
              "model                  0\n",
              "prod_year              0\n",
              "category               0\n",
              "leather_interior       0\n",
              "fuel_type              0\n",
              "engine_volume         12\n",
              "mileage              714\n",
              "cylinders              0\n",
              "gear_box_type          0\n",
              "drive_wheels           0\n",
              "doors                  0\n",
              "wheel                  0\n",
              "color                  0\n",
              "airbags                0\n",
              "dtype: int64"
            ]
          },
          "execution_count": 10,
          "metadata": {},
          "output_type": "execute_result"
        }
      ],
      "source": [
        "df.isna().sum()"
      ]
    },
    {
      "cell_type": "code",
      "execution_count": 11,
      "metadata": {
        "colab": {
          "base_uri": "https://localhost:8080/"
        },
        "id": "FZgxVxhNdwIU",
        "outputId": "75b5480e-97ce-454d-e907-cbad14484aa2"
      },
      "outputs": [
        {
          "name": "stdout",
          "output_type": "stream",
          "text": [
            "<class 'pandas.core.frame.DataFrame'>\n",
            "Index: 18924 entries, 0 to 19236\n",
            "Data columns (total 18 columns):\n",
            " #   Column            Non-Null Count  Dtype  \n",
            "---  ------            --------------  -----  \n",
            " 0   id                18924 non-null  int64  \n",
            " 1   price             18924 non-null  int64  \n",
            " 2   levy              13215 non-null  float64\n",
            " 3   manufacturer      18924 non-null  object \n",
            " 4   model             18924 non-null  object \n",
            " 5   prod_year         18924 non-null  int64  \n",
            " 6   category          18924 non-null  object \n",
            " 7   leather_interior  18924 non-null  object \n",
            " 8   fuel_type         18924 non-null  object \n",
            " 9   engine_volume     18912 non-null  object \n",
            " 10  mileage           18210 non-null  object \n",
            " 11  cylinders         18924 non-null  float32\n",
            " 12  gear_box_type     18924 non-null  object \n",
            " 13  drive_wheels      18924 non-null  object \n",
            " 14  doors             18924 non-null  object \n",
            " 15  wheel             18924 non-null  object \n",
            " 16  color             18924 non-null  object \n",
            " 17  airbags           18924 non-null  int64  \n",
            "dtypes: float32(1), float64(1), int64(4), object(12)\n",
            "memory usage: 2.7+ MB\n"
          ]
        }
      ],
      "source": [
        "df.info()"
      ]
    },
    {
      "cell_type": "code",
      "execution_count": 12,
      "metadata": {
        "id": "YOFuRmp2dwIU"
      },
      "outputs": [],
      "source": [
        "import datetime\n",
        "dt = datetime.datetime.now()\n",
        "df['car_age'] = dt.year - df['prod_year']\n",
        "df.drop('prod_year', axis=1, inplace=True)"
      ]
    },
    {
      "cell_type": "code",
      "execution_count": 13,
      "metadata": {
        "colab": {
          "base_uri": "https://localhost:8080/"
        },
        "id": "GUj0KSPwdwIV",
        "outputId": "51dc48d6-2dc5-4f2a-bea5-53676c610fd9"
      },
      "outputs": [
        {
          "data": {
            "text/plain": [
              "Index(['id', 'price', 'levy', 'manufacturer', 'model', 'category',\n",
              "       'leather_interior', 'fuel_type', 'engine_volume', 'mileage',\n",
              "       'cylinders', 'gear_box_type', 'drive_wheels', 'doors', 'wheel', 'color',\n",
              "       'airbags', 'car_age'],\n",
              "      dtype='object')"
            ]
          },
          "execution_count": 13,
          "metadata": {},
          "output_type": "execute_result"
        }
      ],
      "source": [
        "df.columns"
      ]
    },
    {
      "cell_type": "code",
      "execution_count": 14,
      "metadata": {
        "id": "Gfwltf5PdwIV"
      },
      "outputs": [],
      "source": [
        "#change the data type not object to relevant data type\n",
        "columns_to_convert = ['price', 'levy', 'engine_volume', 'mileage', 'airbags', 'car_age']\n",
        "\n",
        "for column in columns_to_convert:\n",
        "    df[column] = df[column].astype('float64')"
      ]
    },
    {
      "cell_type": "code",
      "execution_count": 15,
      "metadata": {
        "id": "cTxu_wO7dwIV"
      },
      "outputs": [],
      "source": [
        "#drop unreasonable price\n",
        "df = df.drop(df[(df['price'] <= 1000) | (df['engine_volume'] < 1) | (df['cylinders'] < 2) ].index, axis=0).reset_index(drop=True)"
      ]
    },
    {
      "cell_type": "code",
      "execution_count": 16,
      "metadata": {
        "colab": {
          "base_uri": "https://localhost:8080/"
        },
        "id": "wknl4rXIdwIW",
        "outputId": "36e209b3-341d-4a2d-9974-3ba9026ac36c"
      },
      "outputs": [
        {
          "name": "stdout",
          "output_type": "stream",
          "text": [
            "<class 'pandas.core.frame.DataFrame'>\n",
            "RangeIndex: 16304 entries, 0 to 16303\n",
            "Data columns (total 18 columns):\n",
            " #   Column            Non-Null Count  Dtype  \n",
            "---  ------            --------------  -----  \n",
            " 0   id                16304 non-null  int64  \n",
            " 1   price             16304 non-null  float64\n",
            " 2   levy              11033 non-null  float64\n",
            " 3   manufacturer      16304 non-null  object \n",
            " 4   model             16304 non-null  object \n",
            " 5   category          16304 non-null  object \n",
            " 6   leather_interior  16304 non-null  object \n",
            " 7   fuel_type         16304 non-null  object \n",
            " 8   engine_volume     16295 non-null  float64\n",
            " 9   mileage           15768 non-null  float64\n",
            " 10  cylinders         16304 non-null  float32\n",
            " 11  gear_box_type     16304 non-null  object \n",
            " 12  drive_wheels      16304 non-null  object \n",
            " 13  doors             16304 non-null  object \n",
            " 14  wheel             16304 non-null  object \n",
            " 15  color             16304 non-null  object \n",
            " 16  airbags           16304 non-null  float64\n",
            " 17  car_age           16304 non-null  float64\n",
            "dtypes: float32(1), float64(6), int64(1), object(10)\n",
            "memory usage: 2.2+ MB\n"
          ]
        }
      ],
      "source": [
        "df.info()"
      ]
    },
    {
      "cell_type": "code",
      "execution_count": 17,
      "metadata": {
        "colab": {
          "base_uri": "https://localhost:8080/"
        },
        "id": "or7U90TydwIW",
        "outputId": "13402885-fdb7-44d6-ef1e-cf81cbfc5cd2"
      },
      "outputs": [
        {
          "name": "stdout",
          "output_type": "stream",
          "text": [
            "Total outliers in price are: 1034 - 6.34%\n",
            "Total outliers in levy are: 505 - 3.1%\n",
            "Total outliers in engine_volume are: 984 - 6.04%\n",
            "Total outliers in mileage are: 595 - 3.65%\n",
            "Total outliers in airbags are: 0 - 0.0%\n",
            "Total outliers in car_age are: 911 - 5.59%\n"
          ]
        }
      ],
      "source": [
        "df_numeric = df.select_dtypes(include='float64')\n",
        "\n",
        "for col in df_numeric.columns:\n",
        "    q1 = df_numeric[col].quantile(0.25)\n",
        "    q3 = df_numeric[col].quantile(0.75)\n",
        "    iqr = q3 - q1\n",
        "    low = q1 - (1.5 * iqr)\n",
        "    high = q3 + (1.5 * iqr)\n",
        "    outliers = ((df_numeric[col] > high) | (df_numeric[col] < low)).sum()\n",
        "    total = df_numeric.shape[0]\n",
        "    print(f\"Total outliers in {col} are: {outliers} - {round(100 * (outliers / total), 2)}%\")\n",
        "\n",
        "    if outliers > 0:\n",
        "        df = df.loc[(df[col] <= high) & (df[col] >= low)]"
      ]
    },
    {
      "cell_type": "code",
      "execution_count": 18,
      "metadata": {
        "colab": {
          "base_uri": "https://localhost:8080/"
        },
        "id": "iQhPIetedwIW",
        "outputId": "f0125e2e-ca15-4a2d-b083-7b603f1254a4"
      },
      "outputs": [
        {
          "data": {
            "text/plain": [
              "id                  0\n",
              "price               0\n",
              "levy                0\n",
              "manufacturer        0\n",
              "model               0\n",
              "category            0\n",
              "leather_interior    0\n",
              "fuel_type           0\n",
              "engine_volume       0\n",
              "mileage             0\n",
              "cylinders           0\n",
              "gear_box_type       0\n",
              "drive_wheels        0\n",
              "doors               0\n",
              "wheel               0\n",
              "color               0\n",
              "airbags             0\n",
              "car_age             0\n",
              "dtype: int64"
            ]
          },
          "execution_count": 18,
          "metadata": {},
          "output_type": "execute_result"
        }
      ],
      "source": [
        "df.isna().sum()"
      ]
    },
    {
      "cell_type": "code",
      "execution_count": 19,
      "metadata": {
        "colab": {
          "base_uri": "https://localhost:8080/"
        },
        "id": "zekBs8YwdwIX",
        "outputId": "328c9f97-17e2-4396-c32d-521748e69926"
      },
      "outputs": [
        {
          "name": "stdout",
          "output_type": "stream",
          "text": [
            "<class 'pandas.core.frame.DataFrame'>\n",
            "Index: 9003 entries, 0 to 16303\n",
            "Data columns (total 18 columns):\n",
            " #   Column            Non-Null Count  Dtype  \n",
            "---  ------            --------------  -----  \n",
            " 0   id                9003 non-null   int64  \n",
            " 1   price             9003 non-null   float64\n",
            " 2   levy              9003 non-null   float64\n",
            " 3   manufacturer      9003 non-null   object \n",
            " 4   model             9003 non-null   object \n",
            " 5   category          9003 non-null   object \n",
            " 6   leather_interior  9003 non-null   object \n",
            " 7   fuel_type         9003 non-null   object \n",
            " 8   engine_volume     9003 non-null   float64\n",
            " 9   mileage           9003 non-null   float64\n",
            " 10  cylinders         9003 non-null   float32\n",
            " 11  gear_box_type     9003 non-null   object \n",
            " 12  drive_wheels      9003 non-null   object \n",
            " 13  doors             9003 non-null   object \n",
            " 14  wheel             9003 non-null   object \n",
            " 15  color             9003 non-null   object \n",
            " 16  airbags           9003 non-null   float64\n",
            " 17  car_age           9003 non-null   float64\n",
            "dtypes: float32(1), float64(6), int64(1), object(10)\n",
            "memory usage: 1.3+ MB\n"
          ]
        }
      ],
      "source": [
        "df.info()"
      ]
    },
    {
      "cell_type": "code",
      "execution_count": 20,
      "metadata": {
        "colab": {
          "base_uri": "https://localhost:8080/",
          "height": 300
        },
        "id": "j835f_lzdwIX",
        "outputId": "1299ead1-7f30-44a0-f98d-ca74c70586c7"
      },
      "outputs": [
        {
          "data": {
            "text/html": [
              "<div>\n",
              "<style scoped>\n",
              "    .dataframe tbody tr th:only-of-type {\n",
              "        vertical-align: middle;\n",
              "    }\n",
              "\n",
              "    .dataframe tbody tr th {\n",
              "        vertical-align: top;\n",
              "    }\n",
              "\n",
              "    .dataframe thead th {\n",
              "        text-align: right;\n",
              "    }\n",
              "</style>\n",
              "<table border=\"1\" class=\"dataframe\">\n",
              "  <thead>\n",
              "    <tr style=\"text-align: right;\">\n",
              "      <th></th>\n",
              "      <th>id</th>\n",
              "      <th>price</th>\n",
              "      <th>levy</th>\n",
              "      <th>engine_volume</th>\n",
              "      <th>mileage</th>\n",
              "      <th>cylinders</th>\n",
              "      <th>airbags</th>\n",
              "      <th>car_age</th>\n",
              "    </tr>\n",
              "  </thead>\n",
              "  <tbody>\n",
              "    <tr>\n",
              "      <th>count</th>\n",
              "      <td>9.003000e+03</td>\n",
              "      <td>9003.000000</td>\n",
              "      <td>9003.000000</td>\n",
              "      <td>9003.000000</td>\n",
              "      <td>9003.000000</td>\n",
              "      <td>9003.000000</td>\n",
              "      <td>9003.000000</td>\n",
              "      <td>9003.000000</td>\n",
              "    </tr>\n",
              "    <tr>\n",
              "      <th>mean</th>\n",
              "      <td>4.565143e+07</td>\n",
              "      <td>17610.280906</td>\n",
              "      <td>801.221260</td>\n",
              "      <td>2.088537</td>\n",
              "      <td>121752.691658</td>\n",
              "      <td>4.238698</td>\n",
              "      <td>6.665001</td>\n",
              "      <td>10.893924</td>\n",
              "    </tr>\n",
              "    <tr>\n",
              "      <th>std</th>\n",
              "      <td>5.283291e+05</td>\n",
              "      <td>11260.418185</td>\n",
              "      <td>259.622294</td>\n",
              "      <td>0.553424</td>\n",
              "      <td>68568.955319</td>\n",
              "      <td>0.703566</td>\n",
              "      <td>4.081888</td>\n",
              "      <td>2.689263</td>\n",
              "    </tr>\n",
              "    <tr>\n",
              "      <th>min</th>\n",
              "      <td>3.175700e+07</td>\n",
              "      <td>1019.000000</td>\n",
              "      <td>247.000000</td>\n",
              "      <td>1.000000</td>\n",
              "      <td>13.000000</td>\n",
              "      <td>2.000000</td>\n",
              "      <td>0.000000</td>\n",
              "      <td>4.000000</td>\n",
              "    </tr>\n",
              "    <tr>\n",
              "      <th>25%</th>\n",
              "      <td>4.572755e+07</td>\n",
              "      <td>9408.000000</td>\n",
              "      <td>639.000000</td>\n",
              "      <td>1.600000</td>\n",
              "      <td>70337.000000</td>\n",
              "      <td>4.000000</td>\n",
              "      <td>4.000000</td>\n",
              "      <td>9.000000</td>\n",
              "    </tr>\n",
              "    <tr>\n",
              "      <th>50%</th>\n",
              "      <td>4.577671e+07</td>\n",
              "      <td>15850.000000</td>\n",
              "      <td>765.000000</td>\n",
              "      <td>2.000000</td>\n",
              "      <td>113400.000000</td>\n",
              "      <td>4.000000</td>\n",
              "      <td>4.000000</td>\n",
              "      <td>11.000000</td>\n",
              "    </tr>\n",
              "    <tr>\n",
              "      <th>75%</th>\n",
              "      <td>4.580310e+07</td>\n",
              "      <td>23521.000000</td>\n",
              "      <td>923.000000</td>\n",
              "      <td>2.500000</td>\n",
              "      <td>160000.000000</td>\n",
              "      <td>4.000000</td>\n",
              "      <td>12.000000</td>\n",
              "      <td>13.000000</td>\n",
              "    </tr>\n",
              "    <tr>\n",
              "      <th>max</th>\n",
              "      <td>4.581665e+07</td>\n",
              "      <td>47531.000000</td>\n",
              "      <td>1662.000000</td>\n",
              "      <td>3.500000</td>\n",
              "      <td>350400.000000</td>\n",
              "      <td>16.000000</td>\n",
              "      <td>16.000000</td>\n",
              "      <td>24.000000</td>\n",
              "    </tr>\n",
              "  </tbody>\n",
              "</table>\n",
              "</div>"
            ],
            "text/plain": [
              "                 id         price         levy  engine_volume        mileage  \\\n",
              "count  9.003000e+03   9003.000000  9003.000000    9003.000000    9003.000000   \n",
              "mean   4.565143e+07  17610.280906   801.221260       2.088537  121752.691658   \n",
              "std    5.283291e+05  11260.418185   259.622294       0.553424   68568.955319   \n",
              "min    3.175700e+07   1019.000000   247.000000       1.000000      13.000000   \n",
              "25%    4.572755e+07   9408.000000   639.000000       1.600000   70337.000000   \n",
              "50%    4.577671e+07  15850.000000   765.000000       2.000000  113400.000000   \n",
              "75%    4.580310e+07  23521.000000   923.000000       2.500000  160000.000000   \n",
              "max    4.581665e+07  47531.000000  1662.000000       3.500000  350400.000000   \n",
              "\n",
              "         cylinders      airbags      car_age  \n",
              "count  9003.000000  9003.000000  9003.000000  \n",
              "mean      4.238698     6.665001    10.893924  \n",
              "std       0.703566     4.081888     2.689263  \n",
              "min       2.000000     0.000000     4.000000  \n",
              "25%       4.000000     4.000000     9.000000  \n",
              "50%       4.000000     4.000000    11.000000  \n",
              "75%       4.000000    12.000000    13.000000  \n",
              "max      16.000000    16.000000    24.000000  "
            ]
          },
          "execution_count": 20,
          "metadata": {},
          "output_type": "execute_result"
        }
      ],
      "source": [
        "df.describe()"
      ]
    },
    {
      "cell_type": "code",
      "execution_count": 21,
      "metadata": {
        "colab": {
          "base_uri": "https://localhost:8080/",
          "height": 175
        },
        "id": "CsneujyMdwIX",
        "outputId": "f8678ca6-933b-48b0-e6e5-66759f449ab6"
      },
      "outputs": [
        {
          "data": {
            "text/html": [
              "<div>\n",
              "<style scoped>\n",
              "    .dataframe tbody tr th:only-of-type {\n",
              "        vertical-align: middle;\n",
              "    }\n",
              "\n",
              "    .dataframe tbody tr th {\n",
              "        vertical-align: top;\n",
              "    }\n",
              "\n",
              "    .dataframe thead th {\n",
              "        text-align: right;\n",
              "    }\n",
              "</style>\n",
              "<table border=\"1\" class=\"dataframe\">\n",
              "  <thead>\n",
              "    <tr style=\"text-align: right;\">\n",
              "      <th></th>\n",
              "      <th>manufacturer</th>\n",
              "      <th>model</th>\n",
              "      <th>category</th>\n",
              "      <th>leather_interior</th>\n",
              "      <th>fuel_type</th>\n",
              "      <th>gear_box_type</th>\n",
              "      <th>drive_wheels</th>\n",
              "      <th>doors</th>\n",
              "      <th>wheel</th>\n",
              "      <th>color</th>\n",
              "    </tr>\n",
              "  </thead>\n",
              "  <tbody>\n",
              "    <tr>\n",
              "      <th>count</th>\n",
              "      <td>9003</td>\n",
              "      <td>9003</td>\n",
              "      <td>9003</td>\n",
              "      <td>9003</td>\n",
              "      <td>9003</td>\n",
              "      <td>9003</td>\n",
              "      <td>9003</td>\n",
              "      <td>9003</td>\n",
              "      <td>9003</td>\n",
              "      <td>9003</td>\n",
              "    </tr>\n",
              "    <tr>\n",
              "      <th>unique</th>\n",
              "      <td>42</td>\n",
              "      <td>597</td>\n",
              "      <td>10</td>\n",
              "      <td>2</td>\n",
              "      <td>6</td>\n",
              "      <td>4</td>\n",
              "      <td>3</td>\n",
              "      <td>3</td>\n",
              "      <td>2</td>\n",
              "      <td>16</td>\n",
              "    </tr>\n",
              "    <tr>\n",
              "      <th>top</th>\n",
              "      <td>HYUNDAI</td>\n",
              "      <td>Elantra</td>\n",
              "      <td>Sedan</td>\n",
              "      <td>Yes</td>\n",
              "      <td>Petrol</td>\n",
              "      <td>Automatic</td>\n",
              "      <td>Front</td>\n",
              "      <td>4</td>\n",
              "      <td>Left wheel</td>\n",
              "      <td>White</td>\n",
              "    </tr>\n",
              "    <tr>\n",
              "      <th>freq</th>\n",
              "      <td>2717</td>\n",
              "      <td>768</td>\n",
              "      <td>4385</td>\n",
              "      <td>7326</td>\n",
              "      <td>4398</td>\n",
              "      <td>7378</td>\n",
              "      <td>7426</td>\n",
              "      <td>8849</td>\n",
              "      <td>8780</td>\n",
              "      <td>2325</td>\n",
              "    </tr>\n",
              "  </tbody>\n",
              "</table>\n",
              "</div>"
            ],
            "text/plain": [
              "       manufacturer    model category leather_interior fuel_type  \\\n",
              "count          9003     9003     9003             9003      9003   \n",
              "unique           42      597       10                2         6   \n",
              "top         HYUNDAI  Elantra    Sedan              Yes    Petrol   \n",
              "freq           2717      768     4385             7326      4398   \n",
              "\n",
              "       gear_box_type drive_wheels doors       wheel  color  \n",
              "count           9003         9003  9003        9003   9003  \n",
              "unique             4            3     3           2     16  \n",
              "top        Automatic        Front     4  Left wheel  White  \n",
              "freq            7378         7426  8849        8780   2325  "
            ]
          },
          "execution_count": 21,
          "metadata": {},
          "output_type": "execute_result"
        }
      ],
      "source": [
        "df.describe(include=object)"
      ]
    },
    {
      "cell_type": "markdown",
      "metadata": {
        "id": "zIXue0CTRGcR"
      },
      "source": [
        "### <b><span style='color:#85BB65'>|</span> Exploratory Data Analysis</b>"
      ]
    },
    {
      "cell_type": "markdown",
      "metadata": {
        "id": "cjkG9Z6DRNKm"
      },
      "source": [
        "#### Top Manufacturer"
      ]
    },
    {
      "cell_type": "code",
      "execution_count": 22,
      "metadata": {
        "colab": {
          "base_uri": "https://localhost:8080/",
          "height": 601
        },
        "id": "0oADW4vCROjI",
        "outputId": "8330d093-e116-4bc3-da4d-ecd075135033"
      },
      "outputs": [
        {
          "data": {
            "image/png": "[encoded data removed]",
            "text/plain": [
              "<Figure size 1200x600 with 1 Axes>"
            ]
          },
          "metadata": {},
          "output_type": "display_data"
        }
      ],
      "source": [
        "plt.figure(figsize=(12, 6))\n",
        "sns.set(style=\"darkgrid\")\n",
        "\n",
        "sns.countplot(data=df, x=\"manufacturer\", order=df['manufacturer'].value_counts().index, color='skyblue')\n",
        "\n",
        "plt.xticks(rotation=90, ha=\"right\")\n",
        "plt.title('Number of Cars by Manufacturer')\n",
        "plt.xlabel('Manufacturer')\n",
        "plt.ylabel('Count')\n",
        "plt.tight_layout()\n",
        "plt.show()"
      ]
    },
    {
      "cell_type": "markdown",
      "metadata": {
        "id": "CB66XpmarmhH"
      },
      "source": [
        "Plot ini menampilkan jumlah entri berdasarkan produsen mobil dari yang paling banyak hingga yang paling sedikit."
      ]
    },
    {
      "cell_type": "markdown",
      "metadata": {
        "id": "VO-4tdDCRwCP"
      },
      "source": [
        "#### Top Cars Category"
      ]
    },
    {
      "cell_type": "code",
      "execution_count": 23,
      "metadata": {
        "colab": {
          "base_uri": "https://localhost:8080/",
          "height": 688
        },
        "id": "co0g8N9nRvVw",
        "outputId": "ae054295-cbe7-483f-d7b2-5b8de0de7d5a"
      },
      "outputs": [
        {
          "name": "stderr",
          "output_type": "stream",
          "text": [
            "C:\\Users\\acer\\AppData\\Local\\Temp\\ipykernel_18112\\3204081829.py:4: FutureWarning: \n",
            "\n",
            "Passing `palette` without assigning `hue` is deprecated and will be removed in v0.14.0. Assign the `x` variable to `hue` and set `legend=False` for the same effect.\n",
            "\n",
            "  sns.countplot(data=df, x=\"category\", order=df['category'].value_counts().index, palette='coolwarm')\n"
          ]
        },
        {
          "data": {
            "image/png": "[encoded data removed]",
            "text/plain": [
              "<Figure size 1200x600 with 1 Axes>"
            ]
          },
          "metadata": {},
          "output_type": "display_data"
        }
      ],
      "source": [
        "plt.figure(figsize=(12, 6))\n",
        "sns.set(style=\"darkgrid\")\n",
        "\n",
        "sns.countplot(data=df, x=\"category\", order=df['category'].value_counts().index, palette='coolwarm')\n",
        "\n",
        "plt.xticks(rotation=90, ha=\"right\")\n",
        "plt.title('Number of Cars by Category')\n",
        "plt.xlabel('Category')\n",
        "plt.ylabel('Count')\n",
        "plt.tight_layout()\n",
        "plt.show()"
      ]
    },
    {
      "cell_type": "markdown",
      "metadata": {
        "id": "rW0MtivrrtlE"
      },
      "source": [
        "Sedan mendominasi penjualan tertinggi, sedangkan microbus memiliki penjualan terendah. Hal ini bisa saja disebabkan oleh preferensi konsumen pada sedan, efisiensi bahan bakar yang lebih baik, dan tren mode."
      ]
    },
    {
      "cell_type": "code",
      "execution_count": 24,
      "metadata": {
        "colab": {
          "base_uri": "https://localhost:8080/",
          "height": 1000
        },
        "id": "zCYafXzqVMYb",
        "outputId": "c2c005b8-57ec-4937-f0b0-9edb931a8c8a"
      },
      "outputs": [
        {
          "name": "stderr",
          "output_type": "stream",
          "text": [
            "C:\\Users\\acer\\AppData\\Local\\Temp\\ipykernel_18112\\2384127596.py:8: FutureWarning: \n",
            "\n",
            "Passing `palette` without assigning `hue` is deprecated and will be removed in v0.14.0. Assign the `x` variable to `hue` and set `legend=False` for the same effect.\n",
            "\n",
            "  sns.countplot(data=df, x=column, order=df[column].value_counts().index, palette=palette)\n"
          ]
        },
        {
          "data": {
            "image/png": "[encoded data removed]",
            "text/plain": [
              "<Figure size 1000x600 with 1 Axes>"
            ]
          },
          "metadata": {},
          "output_type": "display_data"
        },
        {
          "name": "stderr",
          "output_type": "stream",
          "text": [
            "C:\\Users\\acer\\AppData\\Local\\Temp\\ipykernel_18112\\2384127596.py:8: FutureWarning: \n",
            "\n",
            "Passing `palette` without assigning `hue` is deprecated and will be removed in v0.14.0. Assign the `x` variable to `hue` and set `legend=False` for the same effect.\n",
            "\n",
            "  sns.countplot(data=df, x=column, order=df[column].value_counts().index, palette=palette)\n"
          ]
        },
        {
          "data": {
            "image/png": "[encoded data removed]",
            "text/plain": [
              "<Figure size 1000x600 with 1 Axes>"
            ]
          },
          "metadata": {},
          "output_type": "display_data"
        },
        {
          "name": "stderr",
          "output_type": "stream",
          "text": [
            "C:\\Users\\acer\\AppData\\Local\\Temp\\ipykernel_18112\\2384127596.py:8: FutureWarning: \n",
            "\n",
            "Passing `palette` without assigning `hue` is deprecated and will be removed in v0.14.0. Assign the `x` variable to `hue` and set `legend=False` for the same effect.\n",
            "\n",
            "  sns.countplot(data=df, x=column, order=df[column].value_counts().index, palette=palette)\n"
          ]
        },
        {
          "data": {
            "image/png": "[encoded data removed]",
            "text/plain": [
              "<Figure size 1000x600 with 1 Axes>"
            ]
          },
          "metadata": {},
          "output_type": "display_data"
        },
        {
          "name": "stderr",
          "output_type": "stream",
          "text": [
            "C:\\Users\\acer\\AppData\\Local\\Temp\\ipykernel_18112\\2384127596.py:8: FutureWarning: \n",
            "\n",
            "Passing `palette` without assigning `hue` is deprecated and will be removed in v0.14.0. Assign the `x` variable to `hue` and set `legend=False` for the same effect.\n",
            "\n",
            "  sns.countplot(data=df, x=column, order=df[column].value_counts().index, palette=palette)\n"
          ]
        },
        {
          "data": {
            "image/png": "[encoded data removed]",
            "text/plain": [
              "<Figure size 1000x600 with 1 Axes>"
            ]
          },
          "metadata": {},
          "output_type": "display_data"
        },
        {
          "name": "stderr",
          "output_type": "stream",
          "text": [
            "C:\\Users\\acer\\AppData\\Local\\Temp\\ipykernel_18112\\2384127596.py:8: FutureWarning: \n",
            "\n",
            "Passing `palette` without assigning `hue` is deprecated and will be removed in v0.14.0. Assign the `x` variable to `hue` and set `legend=False` for the same effect.\n",
            "\n",
            "  sns.countplot(data=df, x=column, order=df[column].value_counts().index, palette=palette)\n"
          ]
        },
        {
          "data": {
            "image/png": "[encoded data removed]",
            "text/plain": [
              "<Figure size 1000x600 with 1 Axes>"
            ]
          },
          "metadata": {},
          "output_type": "display_data"
        },
        {
          "name": "stderr",
          "output_type": "stream",
          "text": [
            "C:\\Users\\acer\\AppData\\Local\\Temp\\ipykernel_18112\\2384127596.py:8: FutureWarning: \n",
            "\n",
            "Passing `palette` without assigning `hue` is deprecated and will be removed in v0.14.0. Assign the `x` variable to `hue` and set `legend=False` for the same effect.\n",
            "\n",
            "  sns.countplot(data=df, x=column, order=df[column].value_counts().index, palette=palette)\n"
          ]
        },
        {
          "data": {
            "image/png": "[encoded data removed]",
            "text/plain": [
              "<Figure size 1000x600 with 1 Axes>"
            ]
          },
          "metadata": {},
          "output_type": "display_data"
        }
      ],
      "source": [
        "columns = ['color', 'drive_wheels', 'gear_box_type', 'fuel_type', 'wheel', 'leather_interior']\n",
        "palette = 'coolwarm'\n",
        "\n",
        "for column in columns:\n",
        "    plt.figure(figsize=(10, 6))\n",
        "    sns.set(style=\"darkgrid\")\n",
        "\n",
        "    sns.countplot(data=df, x=column, order=df[column].value_counts().index, palette=palette)\n",
        "\n",
        "    plt.xticks(rotation=90, ha=\"right\")\n",
        "    plt.title(column)\n",
        "    plt.xlabel(column)\n",
        "    plt.ylabel('Count')\n",
        "    plt.tight_layout()\n",
        "    plt.show()"
      ]
    },
    {
      "cell_type": "markdown",
      "metadata": {
        "id": "loDI9TugrzBy"
      },
      "source": [
        "Beberapa fitur populer yang dipilih adalah warna putih modern, sistem penggerak roda depan untuk jalan raya, transmisi otomatis yang mudah, bahan bakar yang umum, kemudi di sebelah kiri sesuai standar, dan interior berbahan kulit untuk menampilkan kesan mewah."
      ]
    },
    {
      "cell_type": "markdown",
      "metadata": {
        "id": "c1WBoflRdwIX"
      },
      "source": [
        "### <b><span style='color:#85BB65'>|</span> Data Encoding</b>"
      ]
    },
    {
      "cell_type": "code",
      "execution_count": 25,
      "metadata": {
        "colab": {
          "base_uri": "https://localhost:8080/",
          "height": 424
        },
        "id": "mkdUx3O2dwIY",
        "outputId": "bd13d064-67bf-4d42-8195-36de2f2a0010"
      },
      "outputs": [
        {
          "data": {
            "text/html": [
              "<div>\n",
              "<style scoped>\n",
              "    .dataframe tbody tr th:only-of-type {\n",
              "        vertical-align: middle;\n",
              "    }\n",
              "\n",
              "    .dataframe tbody tr th {\n",
              "        vertical-align: top;\n",
              "    }\n",
              "\n",
              "    .dataframe thead th {\n",
              "        text-align: right;\n",
              "    }\n",
              "</style>\n",
              "<table border=\"1\" class=\"dataframe\">\n",
              "  <thead>\n",
              "    <tr style=\"text-align: right;\">\n",
              "      <th></th>\n",
              "      <th>manufacturer</th>\n",
              "      <th>model</th>\n",
              "      <th>category</th>\n",
              "      <th>leather_interior</th>\n",
              "      <th>fuel_type</th>\n",
              "      <th>gear_box_type</th>\n",
              "      <th>drive_wheels</th>\n",
              "      <th>doors</th>\n",
              "      <th>wheel</th>\n",
              "      <th>color</th>\n",
              "    </tr>\n",
              "  </thead>\n",
              "  <tbody>\n",
              "    <tr>\n",
              "      <th>0</th>\n",
              "      <td>LEXUS</td>\n",
              "      <td>RX 450</td>\n",
              "      <td>Jeep</td>\n",
              "      <td>Yes</td>\n",
              "      <td>Hybrid</td>\n",
              "      <td>Automatic</td>\n",
              "      <td>4x4</td>\n",
              "      <td>4</td>\n",
              "      <td>Left wheel</td>\n",
              "      <td>Silver</td>\n",
              "    </tr>\n",
              "    <tr>\n",
              "      <th>1</th>\n",
              "      <td>CHEVROLET</td>\n",
              "      <td>Equinox</td>\n",
              "      <td>Jeep</td>\n",
              "      <td>No</td>\n",
              "      <td>Petrol</td>\n",
              "      <td>Tiptronic</td>\n",
              "      <td>4x4</td>\n",
              "      <td>4</td>\n",
              "      <td>Left wheel</td>\n",
              "      <td>Black</td>\n",
              "    </tr>\n",
              "    <tr>\n",
              "      <th>3</th>\n",
              "      <td>FORD</td>\n",
              "      <td>Escape</td>\n",
              "      <td>Jeep</td>\n",
              "      <td>Yes</td>\n",
              "      <td>Hybrid</td>\n",
              "      <td>Automatic</td>\n",
              "      <td>4x4</td>\n",
              "      <td>4</td>\n",
              "      <td>Left wheel</td>\n",
              "      <td>White</td>\n",
              "    </tr>\n",
              "    <tr>\n",
              "      <th>4</th>\n",
              "      <td>HONDA</td>\n",
              "      <td>FIT</td>\n",
              "      <td>Hatchback</td>\n",
              "      <td>Yes</td>\n",
              "      <td>Petrol</td>\n",
              "      <td>Automatic</td>\n",
              "      <td>Front</td>\n",
              "      <td>4</td>\n",
              "      <td>Left wheel</td>\n",
              "      <td>Silver</td>\n",
              "    </tr>\n",
              "    <tr>\n",
              "      <th>5</th>\n",
              "      <td>HYUNDAI</td>\n",
              "      <td>Santa FE</td>\n",
              "      <td>Jeep</td>\n",
              "      <td>Yes</td>\n",
              "      <td>Diesel</td>\n",
              "      <td>Automatic</td>\n",
              "      <td>Front</td>\n",
              "      <td>4</td>\n",
              "      <td>Left wheel</td>\n",
              "      <td>White</td>\n",
              "    </tr>\n",
              "    <tr>\n",
              "      <th>...</th>\n",
              "      <td>...</td>\n",
              "      <td>...</td>\n",
              "      <td>...</td>\n",
              "      <td>...</td>\n",
              "      <td>...</td>\n",
              "      <td>...</td>\n",
              "      <td>...</td>\n",
              "      <td>...</td>\n",
              "      <td>...</td>\n",
              "      <td>...</td>\n",
              "    </tr>\n",
              "    <tr>\n",
              "      <th>16298</th>\n",
              "      <td>MERCEDES-BENZ</td>\n",
              "      <td>E 350</td>\n",
              "      <td>Sedan</td>\n",
              "      <td>Yes</td>\n",
              "      <td>Diesel</td>\n",
              "      <td>Automatic</td>\n",
              "      <td>4x4</td>\n",
              "      <td>4</td>\n",
              "      <td>Left wheel</td>\n",
              "      <td>Black</td>\n",
              "    </tr>\n",
              "    <tr>\n",
              "      <th>16299</th>\n",
              "      <td>MERCEDES-BENZ</td>\n",
              "      <td>E 350</td>\n",
              "      <td>Sedan</td>\n",
              "      <td>Yes</td>\n",
              "      <td>Diesel</td>\n",
              "      <td>Automatic</td>\n",
              "      <td>Rear</td>\n",
              "      <td>4</td>\n",
              "      <td>Left wheel</td>\n",
              "      <td>Grey</td>\n",
              "    </tr>\n",
              "    <tr>\n",
              "      <th>16301</th>\n",
              "      <td>HYUNDAI</td>\n",
              "      <td>Sonata</td>\n",
              "      <td>Sedan</td>\n",
              "      <td>Yes</td>\n",
              "      <td>Petrol</td>\n",
              "      <td>Tiptronic</td>\n",
              "      <td>Front</td>\n",
              "      <td>4</td>\n",
              "      <td>Left wheel</td>\n",
              "      <td>Red</td>\n",
              "    </tr>\n",
              "    <tr>\n",
              "      <th>16302</th>\n",
              "      <td>HYUNDAI</td>\n",
              "      <td>Tucson</td>\n",
              "      <td>Jeep</td>\n",
              "      <td>Yes</td>\n",
              "      <td>Diesel</td>\n",
              "      <td>Automatic</td>\n",
              "      <td>Front</td>\n",
              "      <td>4</td>\n",
              "      <td>Left wheel</td>\n",
              "      <td>Grey</td>\n",
              "    </tr>\n",
              "    <tr>\n",
              "      <th>16303</th>\n",
              "      <td>CHEVROLET</td>\n",
              "      <td>Captiva</td>\n",
              "      <td>Jeep</td>\n",
              "      <td>Yes</td>\n",
              "      <td>Diesel</td>\n",
              "      <td>Automatic</td>\n",
              "      <td>Front</td>\n",
              "      <td>4</td>\n",
              "      <td>Left wheel</td>\n",
              "      <td>Black</td>\n",
              "    </tr>\n",
              "  </tbody>\n",
              "</table>\n",
              "<p>9003 rows × 10 columns</p>\n",
              "</div>"
            ],
            "text/plain": [
              "        manufacturer     model   category leather_interior fuel_type  \\\n",
              "0              LEXUS    RX 450       Jeep              Yes    Hybrid   \n",
              "1          CHEVROLET   Equinox       Jeep               No    Petrol   \n",
              "3               FORD    Escape       Jeep              Yes    Hybrid   \n",
              "4              HONDA       FIT  Hatchback              Yes    Petrol   \n",
              "5            HYUNDAI  Santa FE       Jeep              Yes    Diesel   \n",
              "...              ...       ...        ...              ...       ...   \n",
              "16298  MERCEDES-BENZ     E 350      Sedan              Yes    Diesel   \n",
              "16299  MERCEDES-BENZ     E 350      Sedan              Yes    Diesel   \n",
              "16301        HYUNDAI    Sonata      Sedan              Yes    Petrol   \n",
              "16302        HYUNDAI    Tucson       Jeep              Yes    Diesel   \n",
              "16303      CHEVROLET   Captiva       Jeep              Yes    Diesel   \n",
              "\n",
              "      gear_box_type drive_wheels doors       wheel   color  \n",
              "0         Automatic          4x4     4  Left wheel  Silver  \n",
              "1         Tiptronic          4x4     4  Left wheel   Black  \n",
              "3         Automatic          4x4     4  Left wheel   White  \n",
              "4         Automatic        Front     4  Left wheel  Silver  \n",
              "5         Automatic        Front     4  Left wheel   White  \n",
              "...             ...          ...   ...         ...     ...  \n",
              "16298     Automatic          4x4     4  Left wheel   Black  \n",
              "16299     Automatic         Rear     4  Left wheel    Grey  \n",
              "16301     Tiptronic        Front     4  Left wheel     Red  \n",
              "16302     Automatic        Front     4  Left wheel    Grey  \n",
              "16303     Automatic        Front     4  Left wheel   Black  \n",
              "\n",
              "[9003 rows x 10 columns]"
            ]
          },
          "execution_count": 25,
          "metadata": {},
          "output_type": "execute_result"
        }
      ],
      "source": [
        "df_object = df.select_dtypes(include=object)\n",
        "df_object"
      ]
    },
    {
      "cell_type": "code",
      "execution_count": 26,
      "metadata": {
        "colab": {
          "base_uri": "https://localhost:8080/"
        },
        "id": "tXDXgId2dwIY",
        "outputId": "e61c981c-f674-47af-b3f8-91010e1ac416"
      },
      "outputs": [
        {
          "name": "stdout",
          "output_type": "stream",
          "text": [
            "manufacturer number of unique are: 42\n",
            "model number of unique are: 597\n",
            "category number of unique are: 10\n",
            "leather_interior number of unique are: 2\n",
            "fuel_type number of unique are: 6\n",
            "gear_box_type number of unique are: 4\n",
            "drive_wheels number of unique are: 3\n",
            "doors number of unique are: 3\n",
            "wheel number of unique are: 2\n",
            "color number of unique are: 16\n"
          ]
        }
      ],
      "source": [
        "for column in df_object.columns:\n",
        "    print(f\"{column} number of unique are: {df_object[column].nunique()}\")"
      ]
    },
    {
      "cell_type": "code",
      "execution_count": 27,
      "metadata": {
        "colab": {
          "base_uri": "https://localhost:8080/",
          "height": 275
        },
        "id": "PQV7eGQsLphb",
        "outputId": "8e91f22f-0e3a-433f-ce48-29dd0e30d793"
      },
      "outputs": [
        {
          "data": {
            "text/html": [
              "<div>\n",
              "<style scoped>\n",
              "    .dataframe tbody tr th:only-of-type {\n",
              "        vertical-align: middle;\n",
              "    }\n",
              "\n",
              "    .dataframe tbody tr th {\n",
              "        vertical-align: top;\n",
              "    }\n",
              "\n",
              "    .dataframe thead th {\n",
              "        text-align: right;\n",
              "    }\n",
              "</style>\n",
              "<table border=\"1\" class=\"dataframe\">\n",
              "  <thead>\n",
              "    <tr style=\"text-align: right;\">\n",
              "      <th></th>\n",
              "      <th>price</th>\n",
              "      <th>levy</th>\n",
              "      <th>manufacturer</th>\n",
              "      <th>model</th>\n",
              "      <th>category</th>\n",
              "      <th>fuel_type</th>\n",
              "      <th>engine_volume</th>\n",
              "      <th>mileage</th>\n",
              "      <th>cylinders</th>\n",
              "      <th>gear_box_type</th>\n",
              "      <th>drive_wheels</th>\n",
              "      <th>doors</th>\n",
              "      <th>color</th>\n",
              "      <th>airbags</th>\n",
              "      <th>car_age</th>\n",
              "      <th>leather_interior</th>\n",
              "      <th>wheel_right_hand</th>\n",
              "    </tr>\n",
              "    <tr>\n",
              "      <th>id</th>\n",
              "      <th></th>\n",
              "      <th></th>\n",
              "      <th></th>\n",
              "      <th></th>\n",
              "      <th></th>\n",
              "      <th></th>\n",
              "      <th></th>\n",
              "      <th></th>\n",
              "      <th></th>\n",
              "      <th></th>\n",
              "      <th></th>\n",
              "      <th></th>\n",
              "      <th></th>\n",
              "      <th></th>\n",
              "      <th></th>\n",
              "      <th></th>\n",
              "      <th></th>\n",
              "    </tr>\n",
              "  </thead>\n",
              "  <tbody>\n",
              "    <tr>\n",
              "      <th>45654403</th>\n",
              "      <td>13328.0</td>\n",
              "      <td>1399.0</td>\n",
              "      <td>LEXUS</td>\n",
              "      <td>RX 450</td>\n",
              "      <td>Jeep</td>\n",
              "      <td>Hybrid</td>\n",
              "      <td>3.5</td>\n",
              "      <td>186005.0</td>\n",
              "      <td>6.0</td>\n",
              "      <td>Automatic</td>\n",
              "      <td>4x4</td>\n",
              "      <td>4</td>\n",
              "      <td>Silver</td>\n",
              "      <td>12.0</td>\n",
              "      <td>14.0</td>\n",
              "      <td>True</td>\n",
              "      <td>False</td>\n",
              "    </tr>\n",
              "    <tr>\n",
              "      <th>44731507</th>\n",
              "      <td>16621.0</td>\n",
              "      <td>1018.0</td>\n",
              "      <td>CHEVROLET</td>\n",
              "      <td>Equinox</td>\n",
              "      <td>Jeep</td>\n",
              "      <td>Petrol</td>\n",
              "      <td>3.0</td>\n",
              "      <td>192000.0</td>\n",
              "      <td>6.0</td>\n",
              "      <td>Tiptronic</td>\n",
              "      <td>4x4</td>\n",
              "      <td>4</td>\n",
              "      <td>Black</td>\n",
              "      <td>8.0</td>\n",
              "      <td>13.0</td>\n",
              "      <td>False</td>\n",
              "      <td>False</td>\n",
              "    </tr>\n",
              "    <tr>\n",
              "      <th>45769185</th>\n",
              "      <td>3607.0</td>\n",
              "      <td>862.0</td>\n",
              "      <td>FORD</td>\n",
              "      <td>Escape</td>\n",
              "      <td>Jeep</td>\n",
              "      <td>Hybrid</td>\n",
              "      <td>2.5</td>\n",
              "      <td>168966.0</td>\n",
              "      <td>4.0</td>\n",
              "      <td>Automatic</td>\n",
              "      <td>4x4</td>\n",
              "      <td>4</td>\n",
              "      <td>White</td>\n",
              "      <td>0.0</td>\n",
              "      <td>13.0</td>\n",
              "      <td>True</td>\n",
              "      <td>False</td>\n",
              "    </tr>\n",
              "    <tr>\n",
              "      <th>45809263</th>\n",
              "      <td>11726.0</td>\n",
              "      <td>446.0</td>\n",
              "      <td>HONDA</td>\n",
              "      <td>FIT</td>\n",
              "      <td>Hatchback</td>\n",
              "      <td>Petrol</td>\n",
              "      <td>1.3</td>\n",
              "      <td>91901.0</td>\n",
              "      <td>4.0</td>\n",
              "      <td>Automatic</td>\n",
              "      <td>Front</td>\n",
              "      <td>4</td>\n",
              "      <td>Silver</td>\n",
              "      <td>4.0</td>\n",
              "      <td>10.0</td>\n",
              "      <td>True</td>\n",
              "      <td>False</td>\n",
              "    </tr>\n",
              "    <tr>\n",
              "      <th>45802912</th>\n",
              "      <td>39493.0</td>\n",
              "      <td>891.0</td>\n",
              "      <td>HYUNDAI</td>\n",
              "      <td>Santa FE</td>\n",
              "      <td>Jeep</td>\n",
              "      <td>Diesel</td>\n",
              "      <td>2.0</td>\n",
              "      <td>160931.0</td>\n",
              "      <td>4.0</td>\n",
              "      <td>Automatic</td>\n",
              "      <td>Front</td>\n",
              "      <td>4</td>\n",
              "      <td>White</td>\n",
              "      <td>4.0</td>\n",
              "      <td>8.0</td>\n",
              "      <td>True</td>\n",
              "      <td>False</td>\n",
              "    </tr>\n",
              "  </tbody>\n",
              "</table>\n",
              "</div>"
            ],
            "text/plain": [
              "            price    levy manufacturer     model   category fuel_type  \\\n",
              "id                                                                      \n",
              "45654403  13328.0  1399.0        LEXUS    RX 450       Jeep    Hybrid   \n",
              "44731507  16621.0  1018.0    CHEVROLET   Equinox       Jeep    Petrol   \n",
              "45769185   3607.0   862.0         FORD    Escape       Jeep    Hybrid   \n",
              "45809263  11726.0   446.0        HONDA       FIT  Hatchback    Petrol   \n",
              "45802912  39493.0   891.0      HYUNDAI  Santa FE       Jeep    Diesel   \n",
              "\n",
              "          engine_volume   mileage  cylinders gear_box_type drive_wheels doors  \\\n",
              "id                                                                              \n",
              "45654403            3.5  186005.0        6.0     Automatic          4x4     4   \n",
              "44731507            3.0  192000.0        6.0     Tiptronic          4x4     4   \n",
              "45769185            2.5  168966.0        4.0     Automatic          4x4     4   \n",
              "45809263            1.3   91901.0        4.0     Automatic        Front     4   \n",
              "45802912            2.0  160931.0        4.0     Automatic        Front     4   \n",
              "\n",
              "           color  airbags  car_age  leather_interior  wheel_right_hand  \n",
              "id                                                                      \n",
              "45654403  Silver     12.0     14.0              True             False  \n",
              "44731507   Black      8.0     13.0             False             False  \n",
              "45769185   White      0.0     13.0              True             False  \n",
              "45809263  Silver      4.0     10.0              True             False  \n",
              "45802912   White      4.0      8.0              True             False  "
            ]
          },
          "execution_count": 27,
          "metadata": {},
          "output_type": "execute_result"
        }
      ],
      "source": [
        "# Recode the two categorical non numeric variable\n",
        "df_enc = pd.get_dummies(\n",
        "    df,\n",
        "    columns=['leather_interior', 'wheel'],\n",
        "    drop_first=True #drop first column\n",
        ")\n",
        "\n",
        "df_enc = df_enc.rename(\n",
        "    columns={'leather_interior_Yes': 'leather_interior', 'wheel_Right-hand drive':'wheel_right_hand'}\n",
        ")\n",
        "df_enc = df_enc.set_index('id')\n",
        "df_enc.head()"
      ]
    },
    {
      "cell_type": "code",
      "execution_count": 28,
      "metadata": {
        "id": "MfbUg_F5dwIY"
      },
      "outputs": [],
      "source": [
        "#manufacturer colomn encode\n",
        "df_manufacturer = df_enc.groupby('manufacturer')['price'].mean().sort_values(\n",
        "    ascending=False).to_dict()\n",
        "df_enc.manufacturer = df_enc.manufacturer.map(df_manufacturer)\n",
        "\n",
        "#fuel type colomn encode\n",
        "df_fuel_type = df_enc.groupby('fuel_type')['price'].mean().sort_values(\n",
        "    ascending=False).to_dict()\n",
        "df_enc.fuel_type = df_enc.fuel_type.map(df_fuel_type)\n",
        "\n",
        "#gear box type colomn encode\n",
        "df_gear_box_type = df_enc.groupby('gear_box_type')['price'].mean().sort_values(\n",
        "    ascending=False).to_dict()\n",
        "df_enc.gear_box_type = df_enc.gear_box_type.map(df_gear_box_type)\n",
        "\n",
        "#drive_wheels colomn encode\n",
        "df_drive_wheels = df_enc.groupby('drive_wheels')['price'].mean().sort_values(\n",
        "    ascending=False).to_dict()\n",
        "df_enc.drive_wheels = df_enc.drive_wheels.map(df_drive_wheels)\n",
        "\n",
        "#doors colomn encode\n",
        "df_doors = df_enc.groupby('doors')['price'].mean().sort_values(\n",
        "    ascending=False).to_dict()\n",
        "df_enc.doors = df_enc.doors.map(df_doors)\n",
        "\n",
        "#color colomn encode\n",
        "df_color = df_enc.groupby('color')['price'].mean().sort_values(\n",
        "    ascending=False).to_dict()\n",
        "df_enc.color = df_enc.color.map(df_color)"
      ]
    },
    {
      "cell_type": "code",
      "execution_count": 29,
      "metadata": {
        "id": "b6GHHwKNdwIZ"
      },
      "outputs": [],
      "source": [
        "df_enc.drop(['model', 'category'], axis=1, inplace=True)"
      ]
    },
    {
      "cell_type": "code",
      "execution_count": 30,
      "metadata": {
        "colab": {
          "base_uri": "https://localhost:8080/"
        },
        "id": "fvb00OeAdwIZ",
        "outputId": "1bc4d66c-95ff-4d36-92f5-6f3ac7e9771e"
      },
      "outputs": [
        {
          "data": {
            "text/plain": [
              "price               1.164537\n",
              "levy                2.300826\n",
              "manufacturer        1.622050\n",
              "fuel_type           2.077771\n",
              "engine_volume       2.579081\n",
              "mileage             1.289697\n",
              "cylinders           2.020396\n",
              "gear_box_type       1.002380\n",
              "drive_wheels       -0.698386\n",
              "doors               1.043663\n",
              "color               1.310268\n",
              "airbags             0.727752\n",
              "car_age             0.935875\n",
              "leather_interior    1.401042\n",
              "wheel_right_hand    0.224718\n",
              "dtype: float64"
            ]
          },
          "execution_count": 30,
          "metadata": {},
          "output_type": "execute_result"
        }
      ],
      "source": [
        "df_enc_corr = df_enc.corr()\n",
        "df_enc_corr.sum()"
      ]
    },
    {
      "cell_type": "code",
      "execution_count": 31,
      "metadata": {
        "colab": {
          "base_uri": "https://localhost:8080/",
          "height": 1000
        },
        "id": "RQyXTOe6dwIZ",
        "outputId": "3699266f-64bb-485f-a80b-2effa21402d0"
      },
      "outputs": [
        {
          "data": {
            "image/png": "[encoded data removed]",
            "text/plain": [
              "<Figure size 1200x1200 with 2 Axes>"
            ]
          },
          "metadata": {},
          "output_type": "display_data"
        }
      ],
      "source": [
        "f, ax = plt.subplots(1, 1, figsize=(12, 12))\n",
        "ax = sns.heatmap(df_enc_corr.round(2), annot=True, cmap=\"cool\")"
      ]
    },
    {
      "cell_type": "markdown",
      "metadata": {
        "id": "Vtxd2stcrWQ5"
      },
      "source": [
        "Nilai korelasi tinggi antara \"cylinder\" dan \"engine volume\" sebesar 0.66 menandakan hubungan yang kuat dan positif. Ini bisa terjadi karena mesin yang lebih besar dan memiliki performa tinggi cenderung memiliki lebih banyak silinder. Kendaraan kelas atas juga biasanya memiliki jumlah silinder yang lebih banyak."
      ]
    },
    {
      "cell_type": "code",
      "execution_count": 32,
      "metadata": {
        "id": "znbgdVJfdwIZ"
      },
      "outputs": [],
      "source": [
        "#drop column with correlation below 0.5\n",
        "df_enc.drop(['wheel_right_hand', 'drive_wheels'], axis=1, inplace=True)"
      ]
    },
    {
      "cell_type": "code",
      "execution_count": 33,
      "metadata": {
        "colab": {
          "base_uri": "https://localhost:8080/",
          "height": 455
        },
        "id": "A8pnR2zudwIa",
        "outputId": "2238f859-899b-4a50-c641-7454a55d1e32"
      },
      "outputs": [
        {
          "data": {
            "text/html": [
              "<div>\n",
              "<style scoped>\n",
              "    .dataframe tbody tr th:only-of-type {\n",
              "        vertical-align: middle;\n",
              "    }\n",
              "\n",
              "    .dataframe tbody tr th {\n",
              "        vertical-align: top;\n",
              "    }\n",
              "\n",
              "    .dataframe thead th {\n",
              "        text-align: right;\n",
              "    }\n",
              "</style>\n",
              "<table border=\"1\" class=\"dataframe\">\n",
              "  <thead>\n",
              "    <tr style=\"text-align: right;\">\n",
              "      <th></th>\n",
              "      <th>price</th>\n",
              "      <th>levy</th>\n",
              "      <th>manufacturer</th>\n",
              "      <th>fuel_type</th>\n",
              "      <th>engine_volume</th>\n",
              "      <th>mileage</th>\n",
              "      <th>cylinders</th>\n",
              "      <th>gear_box_type</th>\n",
              "      <th>doors</th>\n",
              "      <th>color</th>\n",
              "      <th>airbags</th>\n",
              "      <th>car_age</th>\n",
              "      <th>leather_interior</th>\n",
              "    </tr>\n",
              "    <tr>\n",
              "      <th>id</th>\n",
              "      <th></th>\n",
              "      <th></th>\n",
              "      <th></th>\n",
              "      <th></th>\n",
              "      <th></th>\n",
              "      <th></th>\n",
              "      <th></th>\n",
              "      <th></th>\n",
              "      <th></th>\n",
              "      <th></th>\n",
              "      <th></th>\n",
              "      <th></th>\n",
              "      <th></th>\n",
              "    </tr>\n",
              "  </thead>\n",
              "  <tbody>\n",
              "    <tr>\n",
              "      <th>45654403</th>\n",
              "      <td>13328.0</td>\n",
              "      <td>1399.0</td>\n",
              "      <td>13351.246637</td>\n",
              "      <td>12170.808486</td>\n",
              "      <td>3.5</td>\n",
              "      <td>186005.0</td>\n",
              "      <td>6.0</td>\n",
              "      <td>17249.669152</td>\n",
              "      <td>17665.179342</td>\n",
              "      <td>17279.314301</td>\n",
              "      <td>12.0</td>\n",
              "      <td>14.0</td>\n",
              "      <td>True</td>\n",
              "    </tr>\n",
              "    <tr>\n",
              "      <th>44731507</th>\n",
              "      <td>16621.0</td>\n",
              "      <td>1018.0</td>\n",
              "      <td>15303.871007</td>\n",
              "      <td>16569.341519</td>\n",
              "      <td>3.0</td>\n",
              "      <td>192000.0</td>\n",
              "      <td>6.0</td>\n",
              "      <td>21097.235556</td>\n",
              "      <td>17665.179342</td>\n",
              "      <td>17406.617403</td>\n",
              "      <td>8.0</td>\n",
              "      <td>13.0</td>\n",
              "      <td>False</td>\n",
              "    </tr>\n",
              "    <tr>\n",
              "      <th>45769185</th>\n",
              "      <td>3607.0</td>\n",
              "      <td>862.0</td>\n",
              "      <td>14040.396061</td>\n",
              "      <td>12170.808486</td>\n",
              "      <td>2.5</td>\n",
              "      <td>168966.0</td>\n",
              "      <td>4.0</td>\n",
              "      <td>17249.669152</td>\n",
              "      <td>17665.179342</td>\n",
              "      <td>18184.712688</td>\n",
              "      <td>0.0</td>\n",
              "      <td>13.0</td>\n",
              "      <td>True</td>\n",
              "    </tr>\n",
              "    <tr>\n",
              "      <th>45809263</th>\n",
              "      <td>11726.0</td>\n",
              "      <td>446.0</td>\n",
              "      <td>16123.089514</td>\n",
              "      <td>16569.341519</td>\n",
              "      <td>1.3</td>\n",
              "      <td>91901.0</td>\n",
              "      <td>4.0</td>\n",
              "      <td>17249.669152</td>\n",
              "      <td>17665.179342</td>\n",
              "      <td>17279.314301</td>\n",
              "      <td>4.0</td>\n",
              "      <td>10.0</td>\n",
              "      <td>True</td>\n",
              "    </tr>\n",
              "    <tr>\n",
              "      <th>45802912</th>\n",
              "      <td>39493.0</td>\n",
              "      <td>891.0</td>\n",
              "      <td>21504.128819</td>\n",
              "      <td>23474.326286</td>\n",
              "      <td>2.0</td>\n",
              "      <td>160931.0</td>\n",
              "      <td>4.0</td>\n",
              "      <td>17249.669152</td>\n",
              "      <td>17665.179342</td>\n",
              "      <td>18184.712688</td>\n",
              "      <td>4.0</td>\n",
              "      <td>8.0</td>\n",
              "      <td>True</td>\n",
              "    </tr>\n",
              "    <tr>\n",
              "      <th>...</th>\n",
              "      <td>...</td>\n",
              "      <td>...</td>\n",
              "      <td>...</td>\n",
              "      <td>...</td>\n",
              "      <td>...</td>\n",
              "      <td>...</td>\n",
              "      <td>...</td>\n",
              "      <td>...</td>\n",
              "      <td>...</td>\n",
              "      <td>...</td>\n",
              "      <td>...</td>\n",
              "      <td>...</td>\n",
              "      <td>...</td>\n",
              "    </tr>\n",
              "    <tr>\n",
              "      <th>45769427</th>\n",
              "      <td>29793.0</td>\n",
              "      <td>1053.0</td>\n",
              "      <td>15543.265938</td>\n",
              "      <td>23474.326286</td>\n",
              "      <td>3.5</td>\n",
              "      <td>219030.0</td>\n",
              "      <td>6.0</td>\n",
              "      <td>17249.669152</td>\n",
              "      <td>17665.179342</td>\n",
              "      <td>17406.617403</td>\n",
              "      <td>12.0</td>\n",
              "      <td>10.0</td>\n",
              "      <td>True</td>\n",
              "    </tr>\n",
              "    <tr>\n",
              "      <th>45772306</th>\n",
              "      <td>5802.0</td>\n",
              "      <td>1055.0</td>\n",
              "      <td>15543.265938</td>\n",
              "      <td>23474.326286</td>\n",
              "      <td>3.5</td>\n",
              "      <td>107800.0</td>\n",
              "      <td>6.0</td>\n",
              "      <td>17249.669152</td>\n",
              "      <td>17665.179342</td>\n",
              "      <td>18793.722813</td>\n",
              "      <td>12.0</td>\n",
              "      <td>11.0</td>\n",
              "      <td>True</td>\n",
              "    </tr>\n",
              "    <tr>\n",
              "      <th>45778856</th>\n",
              "      <td>15681.0</td>\n",
              "      <td>831.0</td>\n",
              "      <td>21504.128819</td>\n",
              "      <td>16569.341519</td>\n",
              "      <td>2.4</td>\n",
              "      <td>161600.0</td>\n",
              "      <td>4.0</td>\n",
              "      <td>21097.235556</td>\n",
              "      <td>17665.179342</td>\n",
              "      <td>15525.904605</td>\n",
              "      <td>8.0</td>\n",
              "      <td>13.0</td>\n",
              "      <td>True</td>\n",
              "    </tr>\n",
              "    <tr>\n",
              "      <th>45804997</th>\n",
              "      <td>26108.0</td>\n",
              "      <td>836.0</td>\n",
              "      <td>21504.128819</td>\n",
              "      <td>23474.326286</td>\n",
              "      <td>2.0</td>\n",
              "      <td>116365.0</td>\n",
              "      <td>4.0</td>\n",
              "      <td>17249.669152</td>\n",
              "      <td>17665.179342</td>\n",
              "      <td>18793.722813</td>\n",
              "      <td>4.0</td>\n",
              "      <td>14.0</td>\n",
              "      <td>True</td>\n",
              "    </tr>\n",
              "    <tr>\n",
              "      <th>45793526</th>\n",
              "      <td>5331.0</td>\n",
              "      <td>1288.0</td>\n",
              "      <td>15303.871007</td>\n",
              "      <td>23474.326286</td>\n",
              "      <td>2.0</td>\n",
              "      <td>51258.0</td>\n",
              "      <td>4.0</td>\n",
              "      <td>17249.669152</td>\n",
              "      <td>17665.179342</td>\n",
              "      <td>17406.617403</td>\n",
              "      <td>4.0</td>\n",
              "      <td>17.0</td>\n",
              "      <td>True</td>\n",
              "    </tr>\n",
              "  </tbody>\n",
              "</table>\n",
              "<p>9003 rows × 13 columns</p>\n",
              "</div>"
            ],
            "text/plain": [
              "            price    levy  manufacturer     fuel_type  engine_volume  \\\n",
              "id                                                                     \n",
              "45654403  13328.0  1399.0  13351.246637  12170.808486            3.5   \n",
              "44731507  16621.0  1018.0  15303.871007  16569.341519            3.0   \n",
              "45769185   3607.0   862.0  14040.396061  12170.808486            2.5   \n",
              "45809263  11726.0   446.0  16123.089514  16569.341519            1.3   \n",
              "45802912  39493.0   891.0  21504.128819  23474.326286            2.0   \n",
              "...           ...     ...           ...           ...            ...   \n",
              "45769427  29793.0  1053.0  15543.265938  23474.326286            3.5   \n",
              "45772306   5802.0  1055.0  15543.265938  23474.326286            3.5   \n",
              "45778856  15681.0   831.0  21504.128819  16569.341519            2.4   \n",
              "45804997  26108.0   836.0  21504.128819  23474.326286            2.0   \n",
              "45793526   5331.0  1288.0  15303.871007  23474.326286            2.0   \n",
              "\n",
              "           mileage  cylinders  gear_box_type         doors         color  \\\n",
              "id                                                                         \n",
              "45654403  186005.0        6.0   17249.669152  17665.179342  17279.314301   \n",
              "44731507  192000.0        6.0   21097.235556  17665.179342  17406.617403   \n",
              "45769185  168966.0        4.0   17249.669152  17665.179342  18184.712688   \n",
              "45809263   91901.0        4.0   17249.669152  17665.179342  17279.314301   \n",
              "45802912  160931.0        4.0   17249.669152  17665.179342  18184.712688   \n",
              "...            ...        ...            ...           ...           ...   \n",
              "45769427  219030.0        6.0   17249.669152  17665.179342  17406.617403   \n",
              "45772306  107800.0        6.0   17249.669152  17665.179342  18793.722813   \n",
              "45778856  161600.0        4.0   21097.235556  17665.179342  15525.904605   \n",
              "45804997  116365.0        4.0   17249.669152  17665.179342  18793.722813   \n",
              "45793526   51258.0        4.0   17249.669152  17665.179342  17406.617403   \n",
              "\n",
              "          airbags  car_age  leather_interior  \n",
              "id                                            \n",
              "45654403     12.0     14.0              True  \n",
              "44731507      8.0     13.0             False  \n",
              "45769185      0.0     13.0              True  \n",
              "45809263      4.0     10.0              True  \n",
              "45802912      4.0      8.0              True  \n",
              "...           ...      ...               ...  \n",
              "45769427     12.0     10.0              True  \n",
              "45772306     12.0     11.0              True  \n",
              "45778856      8.0     13.0              True  \n",
              "45804997      4.0     14.0              True  \n",
              "45793526      4.0     17.0              True  \n",
              "\n",
              "[9003 rows x 13 columns]"
            ]
          },
          "execution_count": 33,
          "metadata": {},
          "output_type": "execute_result"
        }
      ],
      "source": [
        "df_enc"
      ]
    },
    {
      "cell_type": "markdown",
      "metadata": {
        "id": "XxZe1CVYgTwa"
      },
      "source": [
        "### <b><span style='color:#85BB65'>|</span> Data Scaling</b>"
      ]
    },
    {
      "cell_type": "code",
      "execution_count": 34,
      "metadata": {
        "id": "_POA3GeSdwIa"
      },
      "outputs": [],
      "source": [
        "#Lakukan scaling (Jika perlu) --> Boleh eksperimen menggunakan berbagai macam scaling\n",
        "df_enc_scaler= df_enc.copy()\n",
        "#Standard Scaler menggunakan data_stdr\n",
        "\n",
        "#for train model\n",
        "#x= df_enc_scaler.drop(columns=['price'], axis=1)\n",
        "#y = df_enc_scaler['price']\n",
        "\n",
        "#Test train split dengan beberapa metode (Random, K-Fold split) --> Random bisa test data percentage diubah2\n",
        "#0.2, 0.25, 0.3, 0.33"
      ]
    },
    {
      "cell_type": "markdown",
      "metadata": {
        "id": "hkgBNSufdwIa"
      },
      "source": [
        "#### StandarScaler"
      ]
    },
    {
      "cell_type": "code",
      "execution_count": 35,
      "metadata": {
        "colab": {
          "base_uri": "https://localhost:8080/"
        },
        "id": "GLlLxxdpdwIa",
        "outputId": "e5d50f6c-fa83-437e-d7e8-539879c00a8d"
      },
      "outputs": [
        {
          "name": "stdout",
          "output_type": "stream",
          "text": [
            "\n",
            "DataFrame Setelah Standard Scaling:\n",
            "         price      levy  manufacturer  fuel_type  engine_volume   mileage  \\\n",
            "0    -0.380316  2.302622     -0.959918  -1.358419       2.550560  0.937099   \n",
            "1    -0.087860  0.835024     -0.519828  -0.259958       1.647043  1.024534   \n",
            "2    -1.243654  0.234117     -0.804594  -1.358419       0.743527  0.688590   \n",
            "3    -0.522592 -1.368299     -0.335189  -0.259958      -1.424912 -0.435377   \n",
            "4     1.943439  0.345824      0.877610   1.464449      -0.159990  0.571403   \n",
            "...        ...       ...           ...        ...            ...       ...   \n",
            "8998  1.081967  0.969842     -0.465872   1.464449       2.550560  1.418757   \n",
            "8999 -1.048712  0.977546     -0.465872   1.464449       2.550560 -0.203495   \n",
            "9000 -0.171342  0.114707      0.877610  -0.259958       0.562824  0.581160   \n",
            "9001  0.754696  0.133966      0.877610   1.464449      -0.159990 -0.078578   \n",
            "9002 -1.090542  1.875054     -0.519828   1.464449      -0.159990 -1.028142   \n",
            "\n",
            "      cylinders  gear_box_type    doors     color   airbags   car_age  \\\n",
            "0      2.503531      -0.255706  0.11187 -0.347033  1.307066  1.155055   \n",
            "1      2.503531       2.472567  0.11187 -0.213550  0.327073  0.783186   \n",
            "2     -0.339288      -0.255706  0.11187  0.602317 -1.632914  0.783186   \n",
            "3     -0.339288      -0.255706  0.11187 -0.347033 -0.652920 -0.332423   \n",
            "4     -0.339288      -0.255706  0.11187  0.602317 -0.652920 -1.076163   \n",
            "...         ...            ...      ...       ...       ...       ...   \n",
            "8998   2.503531      -0.255706  0.11187 -0.213550  1.307066 -0.332423   \n",
            "8999   2.503531      -0.255706  0.11187  1.240890  1.307066  0.039446   \n",
            "9000  -0.339288       2.472567  0.11187 -2.185559  0.327073  0.783186   \n",
            "9001  -0.339288      -0.255706  0.11187  1.240890 -0.652920  1.155055   \n",
            "9002  -0.339288      -0.255706  0.11187 -0.213550 -0.652920  2.270665   \n",
            "\n",
            "      leather_interior  \n",
            "0             0.478446  \n",
            "1            -2.090099  \n",
            "2             0.478446  \n",
            "3             0.478446  \n",
            "4             0.478446  \n",
            "...                ...  \n",
            "8998          0.478446  \n",
            "8999          0.478446  \n",
            "9000          0.478446  \n",
            "9001          0.478446  \n",
            "9002          0.478446  \n",
            "\n",
            "[9003 rows x 13 columns]\n"
          ]
        }
      ],
      "source": [
        "std_scaler = StandardScaler()\n",
        "\n",
        "# Menggunakan fit_transform untuk melakukan standard scaling pada DataFrame\n",
        "scaled_df_ss = std_scaler.fit_transform(df_enc_scaler)\n",
        "\n",
        "# Mengonversi hasil scaling kembali ke DataFrame\n",
        "stdr_data = pd.DataFrame(scaled_df_ss, columns=df_enc_scaler.columns)\n",
        "\n",
        "print(\"\\nDataFrame Setelah Standard Scaling:\")\n",
        "print(stdr_data)"
      ]
    },
    {
      "cell_type": "markdown",
      "metadata": {
        "id": "1D4e3S7uh7L4"
      },
      "source": [
        "### <b><span style='color:#85BB65'>|</span> Apply Model</b>"
      ]
    },
    {
      "cell_type": "code",
      "execution_count": 36,
      "metadata": {
        "id": "tZyJDIeplJBs"
      },
      "outputs": [],
      "source": [
        "x = df_enc.drop([\"price\"], axis=1)\n",
        "y = df_enc[[\"price\"]]\n",
        "\n",
        "# Split first then scale\n",
        "x_train, x_test, y_train, y_test = holdout(x, y, test_size=0.2, random_state=0)\n",
        "\n",
        "scaler_x = StandardScaler()\n",
        "x_train_scaled = scaler_x.fit_transform(x_train)\n",
        "x_test_scaled = scaler_x.transform(x_test)"
      ]
    },
    {
      "cell_type": "markdown",
      "metadata": {
        "id": "-2z3F8bPtBJn"
      },
      "source": [
        "Linear Regression"
      ]
    },
    {
      "cell_type": "code",
      "execution_count": 37,
      "metadata": {
        "colab": {
          "base_uri": "https://localhost:8080/"
        },
        "id": "L_KvY489k40r",
        "outputId": "6b0bd55d-5cd5-4da3-c1c2-6fea45de99b8"
      },
      "outputs": [
        {
          "name": "stdout",
          "output_type": "stream",
          "text": [
            "MSE Train:  81414890.33845216\n",
            "MAE Train:  7144.280746604882\n",
            "R2 Train:  0.3518716291690065\n",
            "MSE Test:  80504179.48646252\n",
            "MAE Test:  7081.112799570757\n",
            "R2 Test:  0.3867161965020408\n"
          ]
        }
      ],
      "source": [
        "from sklearn.metrics import mean_squared_error\n",
        "from sklearn.metrics import mean_absolute_error\n",
        "from sklearn.metrics import r2_score\n",
        "\n",
        "Lin_reg = LinearRegression()\n",
        "Lin_reg.fit(x_train_scaled, y_train)\n",
        "y_train_pred = Lin_reg.predict(x_train_scaled)\n",
        "y_test_pred = Lin_reg.predict(x_test_scaled)\n",
        "y_train_pred = y_train_pred.flatten()\n",
        "y_test_pred = y_test_pred.flatten()\n",
        "\n",
        "print(\"MSE Train: \", metrics.mean_squared_error(y_train, y_train_pred))\n",
        "print(\"MAE Train: \", metrics.mean_absolute_error(y_train, y_train_pred))\n",
        "print(\"R2 Train: \", metrics.r2_score(y_train, y_train_pred))\n",
        "\n",
        "print(\"MSE Test: \", metrics.mean_squared_error(y_test, y_test_pred))\n",
        "print(\"MAE Test: \", metrics.mean_absolute_error(y_test, y_test_pred))\n",
        "print(\"R2 Test: \", metrics.r2_score(y_test, y_test_pred))"
      ]
    },
    {
      "cell_type": "code",
      "execution_count": 38,
      "metadata": {
        "colab": {
          "base_uri": "https://localhost:8080/",
          "height": 424
        },
        "id": "aBWdxcQilfWF",
        "outputId": "875aa0d9-d783-4158-fb0f-83c4ebb841a7"
      },
      "outputs": [
        {
          "data": {
            "text/html": [
              "<div>\n",
              "<style scoped>\n",
              "    .dataframe tbody tr th:only-of-type {\n",
              "        vertical-align: middle;\n",
              "    }\n",
              "\n",
              "    .dataframe tbody tr th {\n",
              "        vertical-align: top;\n",
              "    }\n",
              "\n",
              "    .dataframe thead th {\n",
              "        text-align: right;\n",
              "    }\n",
              "</style>\n",
              "<table border=\"1\" class=\"dataframe\">\n",
              "  <thead>\n",
              "    <tr style=\"text-align: right;\">\n",
              "      <th></th>\n",
              "      <th>Actual</th>\n",
              "      <th>Prediction</th>\n",
              "    </tr>\n",
              "  </thead>\n",
              "  <tbody>\n",
              "    <tr>\n",
              "      <th>0</th>\n",
              "      <td>23505.0</td>\n",
              "      <td>27746.49</td>\n",
              "    </tr>\n",
              "    <tr>\n",
              "      <th>1</th>\n",
              "      <td>30238.0</td>\n",
              "      <td>25813.13</td>\n",
              "    </tr>\n",
              "    <tr>\n",
              "      <th>2</th>\n",
              "      <td>19757.0</td>\n",
              "      <td>25732.07</td>\n",
              "    </tr>\n",
              "    <tr>\n",
              "      <th>3</th>\n",
              "      <td>18189.0</td>\n",
              "      <td>17218.04</td>\n",
              "    </tr>\n",
              "    <tr>\n",
              "      <th>4</th>\n",
              "      <td>5488.0</td>\n",
              "      <td>11859.69</td>\n",
              "    </tr>\n",
              "    <tr>\n",
              "      <th>...</th>\n",
              "      <td>...</td>\n",
              "      <td>...</td>\n",
              "    </tr>\n",
              "    <tr>\n",
              "      <th>1796</th>\n",
              "      <td>24462.0</td>\n",
              "      <td>17779.92</td>\n",
              "    </tr>\n",
              "    <tr>\n",
              "      <th>1797</th>\n",
              "      <td>9408.0</td>\n",
              "      <td>17930.84</td>\n",
              "    </tr>\n",
              "    <tr>\n",
              "      <th>1798</th>\n",
              "      <td>5488.0</td>\n",
              "      <td>11859.69</td>\n",
              "    </tr>\n",
              "    <tr>\n",
              "      <th>1799</th>\n",
              "      <td>4861.0</td>\n",
              "      <td>17509.96</td>\n",
              "    </tr>\n",
              "    <tr>\n",
              "      <th>1800</th>\n",
              "      <td>16621.0</td>\n",
              "      <td>10681.60</td>\n",
              "    </tr>\n",
              "  </tbody>\n",
              "</table>\n",
              "<p>1801 rows × 2 columns</p>\n",
              "</div>"
            ],
            "text/plain": [
              "       Actual  Prediction\n",
              "0     23505.0    27746.49\n",
              "1     30238.0    25813.13\n",
              "2     19757.0    25732.07\n",
              "3     18189.0    17218.04\n",
              "4      5488.0    11859.69\n",
              "...       ...         ...\n",
              "1796  24462.0    17779.92\n",
              "1797   9408.0    17930.84\n",
              "1798   5488.0    11859.69\n",
              "1799   4861.0    17509.96\n",
              "1800  16621.0    10681.60\n",
              "\n",
              "[1801 rows x 2 columns]"
            ]
          },
          "execution_count": 38,
          "metadata": {},
          "output_type": "execute_result"
        }
      ],
      "source": [
        "pd.DataFrame({'Actual': y_test['price'].values, 'Prediction': y_test_pred}).round(2)"
      ]
    },
    {
      "cell_type": "markdown",
      "metadata": {
        "id": "pbA9WxtEp9NT"
      },
      "source": [
        "Lasso Regression"
      ]
    },
    {
      "cell_type": "code",
      "execution_count": 39,
      "metadata": {
        "colab": {
          "base_uri": "https://localhost:8080/"
        },
        "id": "_dbgGFRwpDDO",
        "outputId": "a9653981-b9fb-4d3d-cd00-61894ce15472"
      },
      "outputs": [
        {
          "name": "stdout",
          "output_type": "stream",
          "text": [
            "MSE Train:  81414909.86967686\n",
            "MAE Train:  7144.305431745502\n",
            "R2 Train:  0.3518714736846622\n",
            "MSE Test:  80506640.40379256\n",
            "MAE Test:  7081.255065456252\n",
            "R2 Test:  0.38669744914320936\n"
          ]
        }
      ],
      "source": [
        "from sklearn.linear_model import Lasso\n",
        "\n",
        "lasso_reg = Lasso()\n",
        "lasso_reg.fit(x_train_scaled, y_train)\n",
        "\n",
        "# Prediksi pada data latih\n",
        "y_train_pred = lasso_reg.predict(x_train_scaled)\n",
        "\n",
        "# Prediksi pada data uji\n",
        "y_test_pred = lasso_reg.predict(x_test_scaled)\n",
        "\n",
        "# Evaluasi pada data latih\n",
        "print(\"MSE Train: \", mean_squared_error(y_train, y_train_pred))\n",
        "print(\"MAE Train: \", mean_absolute_error(y_train, y_train_pred))\n",
        "print(\"R2 Train: \", r2_score(y_train, y_train_pred))\n",
        "\n",
        "# Evaluasi pada data uji\n",
        "print(\"MSE Test: \", mean_squared_error(y_test, y_test_pred))\n",
        "print(\"MAE Test: \", mean_absolute_error(y_test, y_test_pred))\n",
        "print(\"R2 Test: \", r2_score(y_test, y_test_pred))"
      ]
    },
    {
      "cell_type": "code",
      "execution_count": 40,
      "metadata": {
        "colab": {
          "base_uri": "https://localhost:8080/",
          "height": 424
        },
        "id": "4PmEETqVwZ5c",
        "outputId": "b8147e10-4a3d-4e4b-d58d-52aea7ea5b03"
      },
      "outputs": [
        {
          "data": {
            "text/html": [
              "<div>\n",
              "<style scoped>\n",
              "    .dataframe tbody tr th:only-of-type {\n",
              "        vertical-align: middle;\n",
              "    }\n",
              "\n",
              "    .dataframe tbody tr th {\n",
              "        vertical-align: top;\n",
              "    }\n",
              "\n",
              "    .dataframe thead th {\n",
              "        text-align: right;\n",
              "    }\n",
              "</style>\n",
              "<table border=\"1\" class=\"dataframe\">\n",
              "  <thead>\n",
              "    <tr style=\"text-align: right;\">\n",
              "      <th></th>\n",
              "      <th>Actual</th>\n",
              "      <th>Prediction</th>\n",
              "    </tr>\n",
              "  </thead>\n",
              "  <tbody>\n",
              "    <tr>\n",
              "      <th>0</th>\n",
              "      <td>23505.0</td>\n",
              "      <td>27740.99</td>\n",
              "    </tr>\n",
              "    <tr>\n",
              "      <th>1</th>\n",
              "      <td>30238.0</td>\n",
              "      <td>25809.79</td>\n",
              "    </tr>\n",
              "    <tr>\n",
              "      <th>2</th>\n",
              "      <td>19757.0</td>\n",
              "      <td>25727.23</td>\n",
              "    </tr>\n",
              "    <tr>\n",
              "      <th>3</th>\n",
              "      <td>18189.0</td>\n",
              "      <td>17215.13</td>\n",
              "    </tr>\n",
              "    <tr>\n",
              "      <th>4</th>\n",
              "      <td>5488.0</td>\n",
              "      <td>11855.07</td>\n",
              "    </tr>\n",
              "    <tr>\n",
              "      <th>...</th>\n",
              "      <td>...</td>\n",
              "      <td>...</td>\n",
              "    </tr>\n",
              "    <tr>\n",
              "      <th>1796</th>\n",
              "      <td>24462.0</td>\n",
              "      <td>17775.90</td>\n",
              "    </tr>\n",
              "    <tr>\n",
              "      <th>1797</th>\n",
              "      <td>9408.0</td>\n",
              "      <td>17924.00</td>\n",
              "    </tr>\n",
              "    <tr>\n",
              "      <th>1798</th>\n",
              "      <td>5488.0</td>\n",
              "      <td>11855.07</td>\n",
              "    </tr>\n",
              "    <tr>\n",
              "      <th>1799</th>\n",
              "      <td>4861.0</td>\n",
              "      <td>17508.06</td>\n",
              "    </tr>\n",
              "    <tr>\n",
              "      <th>1800</th>\n",
              "      <td>16621.0</td>\n",
              "      <td>10685.22</td>\n",
              "    </tr>\n",
              "  </tbody>\n",
              "</table>\n",
              "<p>1801 rows × 2 columns</p>\n",
              "</div>"
            ],
            "text/plain": [
              "       Actual  Prediction\n",
              "0     23505.0    27740.99\n",
              "1     30238.0    25809.79\n",
              "2     19757.0    25727.23\n",
              "3     18189.0    17215.13\n",
              "4      5488.0    11855.07\n",
              "...       ...         ...\n",
              "1796  24462.0    17775.90\n",
              "1797   9408.0    17924.00\n",
              "1798   5488.0    11855.07\n",
              "1799   4861.0    17508.06\n",
              "1800  16621.0    10685.22\n",
              "\n",
              "[1801 rows x 2 columns]"
            ]
          },
          "execution_count": 40,
          "metadata": {},
          "output_type": "execute_result"
        }
      ],
      "source": [
        "pd.DataFrame({'Actual': y_test['price'].values, 'Prediction': y_test_pred}).round(2)"
      ]
    },
    {
      "cell_type": "markdown",
      "metadata": {
        "id": "QA0uzlROqJgM"
      },
      "source": [
        "Random Forest Regression"
      ]
    },
    {
      "cell_type": "code",
      "execution_count": 41,
      "metadata": {
        "colab": {
          "base_uri": "https://localhost:8080/"
        },
        "id": "CPk-758OqHRy",
        "outputId": "45c9aa28-ce3a-4910-ae5d-754e6f42eb68"
      },
      "outputs": [
        {
          "name": "stderr",
          "output_type": "stream",
          "text": [
            "C:\\Users\\acer\\AppData\\Local\\Temp\\ipykernel_18112\\3480717075.py:4: DataConversionWarning: A column-vector y was passed when a 1d array was expected. Please change the shape of y to (n_samples,), for example using ravel().\n",
            "  rf_reg.fit(x_train_scaled, y_train)\n"
          ]
        },
        {
          "name": "stdout",
          "output_type": "stream",
          "text": [
            "MSE Train:  4512543.969563967\n",
            "MAE Train:  1329.224392981115\n",
            "R2 Train:  0.964076500513133\n",
            "MSE Test:  29023555.17940071\n",
            "MAE Test:  3416.623678792354\n",
            "R2 Test:  0.7788974879937888\n"
          ]
        }
      ],
      "source": [
        "from sklearn.ensemble import RandomForestRegressor\n",
        "\n",
        "rf_reg = RandomForestRegressor()\n",
        "rf_reg.fit(x_train_scaled, y_train)\n",
        "\n",
        "# Prediksi pada data latih\n",
        "y_train_pred = rf_reg.predict(x_train_scaled)\n",
        "\n",
        "# Prediksi pada data uji\n",
        "y_test_pred = rf_reg.predict(x_test_scaled)\n",
        "\n",
        "# Evaluasi pada data latih\n",
        "print(\"MSE Train: \", mean_squared_error(y_train, y_train_pred))\n",
        "print(\"MAE Train: \", mean_absolute_error(y_train, y_train_pred))\n",
        "print(\"R2 Train: \", r2_score(y_train, y_train_pred))\n",
        "\n",
        "# Evaluasi pada data uji\n",
        "print(\"MSE Test: \", mean_squared_error(y_test, y_test_pred))\n",
        "print(\"MAE Test: \", mean_absolute_error(y_test, y_test_pred))\n",
        "print(\"R2 Test: \", r2_score(y_test, y_test_pred))"
      ]
    },
    {
      "cell_type": "code",
      "execution_count": 42,
      "metadata": {
        "colab": {
          "base_uri": "https://localhost:8080/",
          "height": 424
        },
        "id": "Kjdh2dGYwg4q",
        "outputId": "56e6e80b-283c-4092-da11-c6f0f67c6ba4"
      },
      "outputs": [
        {
          "data": {
            "text/html": [
              "<div>\n",
              "<style scoped>\n",
              "    .dataframe tbody tr th:only-of-type {\n",
              "        vertical-align: middle;\n",
              "    }\n",
              "\n",
              "    .dataframe tbody tr th {\n",
              "        vertical-align: top;\n",
              "    }\n",
              "\n",
              "    .dataframe thead th {\n",
              "        text-align: right;\n",
              "    }\n",
              "</style>\n",
              "<table border=\"1\" class=\"dataframe\">\n",
              "  <thead>\n",
              "    <tr style=\"text-align: right;\">\n",
              "      <th></th>\n",
              "      <th>Actual</th>\n",
              "      <th>Prediction</th>\n",
              "    </tr>\n",
              "  </thead>\n",
              "  <tbody>\n",
              "    <tr>\n",
              "      <th>0</th>\n",
              "      <td>23505.0</td>\n",
              "      <td>30035.37</td>\n",
              "    </tr>\n",
              "    <tr>\n",
              "      <th>1</th>\n",
              "      <td>30238.0</td>\n",
              "      <td>20706.47</td>\n",
              "    </tr>\n",
              "    <tr>\n",
              "      <th>2</th>\n",
              "      <td>19757.0</td>\n",
              "      <td>19352.08</td>\n",
              "    </tr>\n",
              "    <tr>\n",
              "      <th>3</th>\n",
              "      <td>18189.0</td>\n",
              "      <td>13380.16</td>\n",
              "    </tr>\n",
              "    <tr>\n",
              "      <th>4</th>\n",
              "      <td>5488.0</td>\n",
              "      <td>5488.00</td>\n",
              "    </tr>\n",
              "    <tr>\n",
              "      <th>...</th>\n",
              "      <td>...</td>\n",
              "      <td>...</td>\n",
              "    </tr>\n",
              "    <tr>\n",
              "      <th>1796</th>\n",
              "      <td>24462.0</td>\n",
              "      <td>18064.93</td>\n",
              "    </tr>\n",
              "    <tr>\n",
              "      <th>1797</th>\n",
              "      <td>9408.0</td>\n",
              "      <td>13790.93</td>\n",
              "    </tr>\n",
              "    <tr>\n",
              "      <th>1798</th>\n",
              "      <td>5488.0</td>\n",
              "      <td>5488.00</td>\n",
              "    </tr>\n",
              "    <tr>\n",
              "      <th>1799</th>\n",
              "      <td>4861.0</td>\n",
              "      <td>4861.00</td>\n",
              "    </tr>\n",
              "    <tr>\n",
              "      <th>1800</th>\n",
              "      <td>16621.0</td>\n",
              "      <td>20344.46</td>\n",
              "    </tr>\n",
              "  </tbody>\n",
              "</table>\n",
              "<p>1801 rows × 2 columns</p>\n",
              "</div>"
            ],
            "text/plain": [
              "       Actual  Prediction\n",
              "0     23505.0    30035.37\n",
              "1     30238.0    20706.47\n",
              "2     19757.0    19352.08\n",
              "3     18189.0    13380.16\n",
              "4      5488.0     5488.00\n",
              "...       ...         ...\n",
              "1796  24462.0    18064.93\n",
              "1797   9408.0    13790.93\n",
              "1798   5488.0     5488.00\n",
              "1799   4861.0     4861.00\n",
              "1800  16621.0    20344.46\n",
              "\n",
              "[1801 rows x 2 columns]"
            ]
          },
          "execution_count": 42,
          "metadata": {},
          "output_type": "execute_result"
        }
      ],
      "source": [
        "pd.DataFrame({'Actual': y_test['price'].values, 'Prediction': y_test_pred}).round(2)"
      ]
    },
    {
      "cell_type": "markdown",
      "metadata": {
        "id": "lRI7aYmXr4Kx"
      },
      "source": [
        "Decision Tree Regression"
      ]
    },
    {
      "cell_type": "code",
      "execution_count": 43,
      "metadata": {
        "colab": {
          "base_uri": "https://localhost:8080/"
        },
        "id": "f3A-Zz1-r51U",
        "outputId": "d140f13c-5854-48e4-869b-d11a843352e4"
      },
      "outputs": [
        {
          "name": "stdout",
          "output_type": "stream",
          "text": [
            "MSE Train:  405623.5142480263\n",
            "MAE Train:  78.20037853241826\n",
            "R2 Train:  0.9967709087813369\n",
            "MSE Test:  52661856.49226289\n",
            "MAE Test:  4292.058941020421\n",
            "R2 Test:  0.5988200382283302\n"
          ]
        }
      ],
      "source": [
        "from sklearn.tree import DecisionTreeRegressor\n",
        "\n",
        "dt_reg = DecisionTreeRegressor()\n",
        "dt_reg.fit(x_train_scaled, y_train)\n",
        "\n",
        "# Prediksi pada data latih\n",
        "y_train_pred = dt_reg.predict(x_train_scaled)\n",
        "\n",
        "# Prediksi pada data uji\n",
        "y_test_pred = dt_reg.predict(x_test_scaled)\n",
        "\n",
        "# Evaluasi pada data latih\n",
        "print(\"MSE Train: \", mean_squared_error(y_train, y_train_pred))\n",
        "print(\"MAE Train: \", mean_absolute_error(y_train, y_train_pred))\n",
        "print(\"R2 Train: \", r2_score(y_train, y_train_pred))\n",
        "\n",
        "# Evaluasi pada data uji\n",
        "print(\"MSE Test: \", mean_squared_error(y_test, y_test_pred))\n",
        "print(\"MAE Test: \", mean_absolute_error(y_test, y_test_pred))\n",
        "print(\"R2 Test: \", r2_score(y_test, y_test_pred))"
      ]
    },
    {
      "cell_type": "code",
      "execution_count": 44,
      "metadata": {
        "colab": {
          "base_uri": "https://localhost:8080/",
          "height": 424
        },
        "id": "Z6TnbGnbwi4b",
        "outputId": "0bd85e45-5a54-4223-c039-901a86f6d3ce"
      },
      "outputs": [
        {
          "data": {
            "text/html": [
              "<div>\n",
              "<style scoped>\n",
              "    .dataframe tbody tr th:only-of-type {\n",
              "        vertical-align: middle;\n",
              "    }\n",
              "\n",
              "    .dataframe tbody tr th {\n",
              "        vertical-align: top;\n",
              "    }\n",
              "\n",
              "    .dataframe thead th {\n",
              "        text-align: right;\n",
              "    }\n",
              "</style>\n",
              "<table border=\"1\" class=\"dataframe\">\n",
              "  <thead>\n",
              "    <tr style=\"text-align: right;\">\n",
              "      <th></th>\n",
              "      <th>Actual</th>\n",
              "      <th>Prediction</th>\n",
              "    </tr>\n",
              "  </thead>\n",
              "  <tbody>\n",
              "    <tr>\n",
              "      <th>0</th>\n",
              "      <td>23505.0</td>\n",
              "      <td>27541.0</td>\n",
              "    </tr>\n",
              "    <tr>\n",
              "      <th>1</th>\n",
              "      <td>30238.0</td>\n",
              "      <td>22947.0</td>\n",
              "    </tr>\n",
              "    <tr>\n",
              "      <th>2</th>\n",
              "      <td>19757.0</td>\n",
              "      <td>17405.0</td>\n",
              "    </tr>\n",
              "    <tr>\n",
              "      <th>3</th>\n",
              "      <td>18189.0</td>\n",
              "      <td>10506.0</td>\n",
              "    </tr>\n",
              "    <tr>\n",
              "      <th>4</th>\n",
              "      <td>5488.0</td>\n",
              "      <td>5488.0</td>\n",
              "    </tr>\n",
              "    <tr>\n",
              "      <th>...</th>\n",
              "      <td>...</td>\n",
              "      <td>...</td>\n",
              "    </tr>\n",
              "    <tr>\n",
              "      <th>1796</th>\n",
              "      <td>24462.0</td>\n",
              "      <td>14113.0</td>\n",
              "    </tr>\n",
              "    <tr>\n",
              "      <th>1797</th>\n",
              "      <td>9408.0</td>\n",
              "      <td>18817.0</td>\n",
              "    </tr>\n",
              "    <tr>\n",
              "      <th>1798</th>\n",
              "      <td>5488.0</td>\n",
              "      <td>5488.0</td>\n",
              "    </tr>\n",
              "    <tr>\n",
              "      <th>1799</th>\n",
              "      <td>4861.0</td>\n",
              "      <td>4861.0</td>\n",
              "    </tr>\n",
              "    <tr>\n",
              "      <th>1800</th>\n",
              "      <td>16621.0</td>\n",
              "      <td>16618.0</td>\n",
              "    </tr>\n",
              "  </tbody>\n",
              "</table>\n",
              "<p>1801 rows × 2 columns</p>\n",
              "</div>"
            ],
            "text/plain": [
              "       Actual  Prediction\n",
              "0     23505.0     27541.0\n",
              "1     30238.0     22947.0\n",
              "2     19757.0     17405.0\n",
              "3     18189.0     10506.0\n",
              "4      5488.0      5488.0\n",
              "...       ...         ...\n",
              "1796  24462.0     14113.0\n",
              "1797   9408.0     18817.0\n",
              "1798   5488.0      5488.0\n",
              "1799   4861.0      4861.0\n",
              "1800  16621.0     16618.0\n",
              "\n",
              "[1801 rows x 2 columns]"
            ]
          },
          "execution_count": 44,
          "metadata": {},
          "output_type": "execute_result"
        }
      ],
      "source": [
        "pd.DataFrame({'Actual': y_test['price'].values, 'Prediction': y_test_pred}).round(2)"
      ]
    },
    {
      "cell_type": "markdown",
      "metadata": {
        "id": "0l0vDgkfsXI7"
      },
      "source": [
        "XGB Regression"
      ]
    },
    {
      "cell_type": "code",
      "execution_count": 45,
      "metadata": {
        "colab": {
          "base_uri": "https://localhost:8080/"
        },
        "id": "8HC8nS8RsPUQ",
        "outputId": "7a581f44-4dd5-47fb-81ae-f23b317285af"
      },
      "outputs": [
        {
          "ename": "ModuleNotFoundError",
          "evalue": "No module named 'xgboost'",
          "output_type": "error",
          "traceback": [
            "\u001b[1;31m---------------------------------------------------------------------------\u001b[0m",
            "\u001b[1;31mModuleNotFoundError\u001b[0m                       Traceback (most recent call last)",
            "Cell \u001b[1;32mIn[45], line 1\u001b[0m\n\u001b[1;32m----> 1\u001b[0m \u001b[38;5;28;01mfrom\u001b[39;00m \u001b[38;5;21;01mxgboost\u001b[39;00m \u001b[38;5;28;01mimport\u001b[39;00m XGBRegressor\n\u001b[0;32m      3\u001b[0m xgb_reg \u001b[38;5;241m=\u001b[39m XGBRegressor()\n\u001b[0;32m      4\u001b[0m xgb_reg\u001b[38;5;241m.\u001b[39mfit(x_train_scaled, y_train)\n",
            "\u001b[1;31mModuleNotFoundError\u001b[0m: No module named 'xgboost'"
          ]
        }
      ],
      "source": [
        "from xgboost import XGBRegressor\n",
        "\n",
        "xgb_reg = XGBRegressor()\n",
        "xgb_reg.fit(x_train_scaled, y_train)\n",
        "\n",
        "# Prediksi pada data latih\n",
        "y_train_pred = xgb_reg.predict(x_train_scaled)\n",
        "\n",
        "# Prediksi pada data uji\n",
        "y_test_pred = xgb_reg.predict(x_test_scaled)\n",
        "\n",
        "# Evaluasi pada data latih\n",
        "print(\"MSE Train: \", mean_squared_error(y_train, y_train_pred))\n",
        "print(\"MAE Train: \", mean_absolute_error(y_train, y_train_pred))\n",
        "print(\"R2 Train: \", r2_score(y_train, y_train_pred))\n",
        "\n",
        "# Evaluasi pada data uji\n",
        "print(\"MSE Test: \", mean_squared_error(y_test, y_test_pred))\n",
        "print(\"MAE Test: \", mean_absolute_error(y_test, y_test_pred))\n",
        "print(\"R2 Test: \", r2_score(y_test, y_test_pred))"
      ]
    },
    {
      "cell_type": "code",
      "execution_count": null,
      "metadata": {
        "colab": {
          "base_uri": "https://localhost:8080/",
          "height": 424
        },
        "id": "eIYSQ_sywj-y",
        "outputId": "34618dbe-b431-4898-836a-247d795f1326"
      },
      "outputs": [
        {
          "data": {
            "application/vnd.google.colaboratory.intrinsic+json": {
              "summary": "{\n  \"name\": \"pd\",\n  \"rows\": 1801,\n  \"fields\": [\n    {\n      \"column\": \"Actual\",\n      \"properties\": {\n        \"dtype\": \"number\",\n        \"std\": 11460.381374266899,\n        \"min\": 1019.0,\n        \"max\": 47217.0,\n        \"num_unique_values\": 686,\n        \"samples\": [\n          40769.0,\n          35971.0,\n          19613.0\n        ],\n        \"semantic_type\": \"\",\n        \"description\": \"\"\n      }\n    },\n    {\n      \"column\": \"Prediction\",\n      \"properties\": {\n        \"dtype\": \"float32\",\n        \"num_unique_values\": 1647,\n        \"samples\": [\n          21705.189453125,\n          18790.3203125,\n          24934.6796875\n        ],\n        \"semantic_type\": \"\",\n        \"description\": \"\"\n      }\n    }\n  ]\n}",
              "type": "dataframe"
            },
            "text/html": [
              "\n",
              "  <div id=\"df-43b3d710-eab9-4d56-a8cb-873cb9a8961c\" class=\"colab-df-container\">\n",
              "    <div>\n",
              "<style scoped>\n",
              "    .dataframe tbody tr th:only-of-type {\n",
              "        vertical-align: middle;\n",
              "    }\n",
              "\n",
              "    .dataframe tbody tr th {\n",
              "        vertical-align: top;\n",
              "    }\n",
              "\n",
              "    .dataframe thead th {\n",
              "        text-align: right;\n",
              "    }\n",
              "</style>\n",
              "<table border=\"1\" class=\"dataframe\">\n",
              "  <thead>\n",
              "    <tr style=\"text-align: right;\">\n",
              "      <th></th>\n",
              "      <th>Actual</th>\n",
              "      <th>Prediction</th>\n",
              "    </tr>\n",
              "  </thead>\n",
              "  <tbody>\n",
              "    <tr>\n",
              "      <th>0</th>\n",
              "      <td>23505.0</td>\n",
              "      <td>27981.320312</td>\n",
              "    </tr>\n",
              "    <tr>\n",
              "      <th>1</th>\n",
              "      <td>30238.0</td>\n",
              "      <td>17447.589844</td>\n",
              "    </tr>\n",
              "    <tr>\n",
              "      <th>2</th>\n",
              "      <td>19757.0</td>\n",
              "      <td>16724.000000</td>\n",
              "    </tr>\n",
              "    <tr>\n",
              "      <th>3</th>\n",
              "      <td>18189.0</td>\n",
              "      <td>10221.500000</td>\n",
              "    </tr>\n",
              "    <tr>\n",
              "      <th>4</th>\n",
              "      <td>5488.0</td>\n",
              "      <td>6304.000000</td>\n",
              "    </tr>\n",
              "    <tr>\n",
              "      <th>...</th>\n",
              "      <td>...</td>\n",
              "      <td>...</td>\n",
              "    </tr>\n",
              "    <tr>\n",
              "      <th>1796</th>\n",
              "      <td>24462.0</td>\n",
              "      <td>21154.449219</td>\n",
              "    </tr>\n",
              "    <tr>\n",
              "      <th>1797</th>\n",
              "      <td>9408.0</td>\n",
              "      <td>12951.209961</td>\n",
              "    </tr>\n",
              "    <tr>\n",
              "      <th>1798</th>\n",
              "      <td>5488.0</td>\n",
              "      <td>6304.000000</td>\n",
              "    </tr>\n",
              "    <tr>\n",
              "      <th>1799</th>\n",
              "      <td>4861.0</td>\n",
              "      <td>6209.700195</td>\n",
              "    </tr>\n",
              "    <tr>\n",
              "      <th>1800</th>\n",
              "      <td>16621.0</td>\n",
              "      <td>17654.009766</td>\n",
              "    </tr>\n",
              "  </tbody>\n",
              "</table>\n",
              "<p>1801 rows × 2 columns</p>\n",
              "</div>\n",
              "    <div class=\"colab-df-buttons\">\n",
              "\n",
              "  <div class=\"colab-df-container\">\n",
              "    <button class=\"colab-df-convert\" onclick=\"convertToInteractive('df-43b3d710-eab9-4d56-a8cb-873cb9a8961c')\"\n",
              "            title=\"Convert this dataframe to an interactive table.\"\n",
              "            style=\"display:none;\">\n",
              "\n",
              "  <svg xmlns=\"http://www.w3.org/2000/svg\" height=\"24px\" viewBox=\"0 -960 960 960\">\n",
              "    <path d=\"M120-120v-720h720v720H120Zm60-500h600v-160H180v160Zm220 220h160v-160H400v160Zm0 220h160v-160H400v160ZM180-400h160v-160H180v160Zm440 0h160v-160H620v160ZM180-180h160v-160H180v160Zm440 0h160v-160H620v160Z\"/>\n",
              "  </svg>\n",
              "    </button>\n",
              "\n",
              "  <style>\n",
              "    .colab-df-container {\n",
              "      display:flex;\n",
              "      gap: 12px;\n",
              "    }\n",
              "\n",
              "    .colab-df-convert {\n",
              "      background-color: #E8F0FE;\n",
              "      border: none;\n",
              "      border-radius: 50%;\n",
              "      cursor: pointer;\n",
              "      display: none;\n",
              "      fill: #1967D2;\n",
              "      height: 32px;\n",
              "      padding: 0 0 0 0;\n",
              "      width: 32px;\n",
              "    }\n",
              "\n",
              "    .colab-df-convert:hover {\n",
              "      background-color: #E2EBFA;\n",
              "      box-shadow: 0px 1px 2px rgba(60, 64, 67, 0.3), 0px 1px 3px 1px rgba(60, 64, 67, 0.15);\n",
              "      fill: #174EA6;\n",
              "    }\n",
              "\n",
              "    .colab-df-buttons div {\n",
              "      margin-bottom: 4px;\n",
              "    }\n",
              "\n",
              "    [theme=dark] .colab-df-convert {\n",
              "      background-color: #3B4455;\n",
              "      fill: #D2E3FC;\n",
              "    }\n",
              "\n",
              "    [theme=dark] .colab-df-convert:hover {\n",
              "      background-color: #434B5C;\n",
              "      box-shadow: 0px 1px 3px 1px rgba(0, 0, 0, 0.15);\n",
              "      filter: drop-shadow(0px 1px 2px rgba(0, 0, 0, 0.3));\n",
              "      fill: #FFFFFF;\n",
              "    }\n",
              "  </style>\n",
              "\n",
              "    <script>\n",
              "      const buttonEl =\n",
              "        document.querySelector('#df-43b3d710-eab9-4d56-a8cb-873cb9a8961c button.colab-df-convert');\n",
              "      buttonEl.style.display =\n",
              "        google.colab.kernel.accessAllowed ? 'block' : 'none';\n",
              "\n",
              "      async function convertToInteractive(key) {\n",
              "        const element = document.querySelector('#df-43b3d710-eab9-4d56-a8cb-873cb9a8961c');\n",
              "        const dataTable =\n",
              "          await google.colab.kernel.invokeFunction('convertToInteractive',\n",
              "                                                    [key], {});\n",
              "        if (!dataTable) return;\n",
              "\n",
              "        const docLinkHtml = 'Like what you see? Visit the ' +\n",
              "          '<a target=\"_blank\" href=https://colab.research.google.com/notebooks/data_table.ipynb>data table notebook</a>'\n",
              "          + ' to learn more about interactive tables.';\n",
              "        element.innerHTML = '';\n",
              "        dataTable['output_type'] = 'display_data';\n",
              "        await google.colab.output.renderOutput(dataTable, element);\n",
              "        const docLink = document.createElement('div');\n",
              "        docLink.innerHTML = docLinkHtml;\n",
              "        element.appendChild(docLink);\n",
              "      }\n",
              "    </script>\n",
              "  </div>\n",
              "\n",
              "\n",
              "<div id=\"df-4c397844-1d72-40f3-ba73-f6986a5482a1\">\n",
              "  <button class=\"colab-df-quickchart\" onclick=\"quickchart('df-4c397844-1d72-40f3-ba73-f6986a5482a1')\"\n",
              "            title=\"Suggest charts\"\n",
              "            style=\"display:none;\">\n",
              "\n",
              "<svg xmlns=\"http://www.w3.org/2000/svg\" height=\"24px\"viewBox=\"0 0 24 24\"\n",
              "     width=\"24px\">\n",
              "    <g>\n",
              "        <path d=\"M19 3H5c-1.1 0-2 .9-2 2v14c0 1.1.9 2 2 2h14c1.1 0 2-.9 2-2V5c0-1.1-.9-2-2-2zM9 17H7v-7h2v7zm4 0h-2V7h2v10zm4 0h-2v-4h2v4z\"/>\n",
              "    </g>\n",
              "</svg>\n",
              "  </button>\n",
              "\n",
              "<style>\n",
              "  .colab-df-quickchart {\n",
              "      --bg-color: #E8F0FE;\n",
              "      --fill-color: #1967D2;\n",
              "      --hover-bg-color: #E2EBFA;\n",
              "      --hover-fill-color: #174EA6;\n",
              "      --disabled-fill-color: #AAA;\n",
              "      --disabled-bg-color: #DDD;\n",
              "  }\n",
              "\n",
              "  [theme=dark] .colab-df-quickchart {\n",
              "      --bg-color: #3B4455;\n",
              "      --fill-color: #D2E3FC;\n",
              "      --hover-bg-color: #434B5C;\n",
              "      --hover-fill-color: #FFFFFF;\n",
              "      --disabled-bg-color: #3B4455;\n",
              "      --disabled-fill-color: #666;\n",
              "  }\n",
              "\n",
              "  .colab-df-quickchart {\n",
              "    background-color: var(--bg-color);\n",
              "    border: none;\n",
              "    border-radius: 50%;\n",
              "    cursor: pointer;\n",
              "    display: none;\n",
              "    fill: var(--fill-color);\n",
              "    height: 32px;\n",
              "    padding: 0;\n",
              "    width: 32px;\n",
              "  }\n",
              "\n",
              "  .colab-df-quickchart:hover {\n",
              "    background-color: var(--hover-bg-color);\n",
              "    box-shadow: 0 1px 2px rgba(60, 64, 67, 0.3), 0 1px 3px 1px rgba(60, 64, 67, 0.15);\n",
              "    fill: var(--button-hover-fill-color);\n",
              "  }\n",
              "\n",
              "  .colab-df-quickchart-complete:disabled,\n",
              "  .colab-df-quickchart-complete:disabled:hover {\n",
              "    background-color: var(--disabled-bg-color);\n",
              "    fill: var(--disabled-fill-color);\n",
              "    box-shadow: none;\n",
              "  }\n",
              "\n",
              "  .colab-df-spinner {\n",
              "    border: 2px solid var(--fill-color);\n",
              "    border-color: transparent;\n",
              "    border-bottom-color: var(--fill-color);\n",
              "    animation:\n",
              "      spin 1s steps(1) infinite;\n",
              "  }\n",
              "\n",
              "  @keyframes spin {\n",
              "    0% {\n",
              "      border-color: transparent;\n",
              "      border-bottom-color: var(--fill-color);\n",
              "      border-left-color: var(--fill-color);\n",
              "    }\n",
              "    20% {\n",
              "      border-color: transparent;\n",
              "      border-left-color: var(--fill-color);\n",
              "      border-top-color: var(--fill-color);\n",
              "    }\n",
              "    30% {\n",
              "      border-color: transparent;\n",
              "      border-left-color: var(--fill-color);\n",
              "      border-top-color: var(--fill-color);\n",
              "      border-right-color: var(--fill-color);\n",
              "    }\n",
              "    40% {\n",
              "      border-color: transparent;\n",
              "      border-right-color: var(--fill-color);\n",
              "      border-top-color: var(--fill-color);\n",
              "    }\n",
              "    60% {\n",
              "      border-color: transparent;\n",
              "      border-right-color: var(--fill-color);\n",
              "    }\n",
              "    80% {\n",
              "      border-color: transparent;\n",
              "      border-right-color: var(--fill-color);\n",
              "      border-bottom-color: var(--fill-color);\n",
              "    }\n",
              "    90% {\n",
              "      border-color: transparent;\n",
              "      border-bottom-color: var(--fill-color);\n",
              "    }\n",
              "  }\n",
              "</style>\n",
              "\n",
              "  <script>\n",
              "    async function quickchart(key) {\n",
              "      const quickchartButtonEl =\n",
              "        document.querySelector('#' + key + ' button');\n",
              "      quickchartButtonEl.disabled = true;  // To prevent multiple clicks.\n",
              "      quickchartButtonEl.classList.add('colab-df-spinner');\n",
              "      try {\n",
              "        const charts = await google.colab.kernel.invokeFunction(\n",
              "            'suggestCharts', [key], {});\n",
              "      } catch (error) {\n",
              "        console.error('Error during call to suggestCharts:', error);\n",
              "      }\n",
              "      quickchartButtonEl.classList.remove('colab-df-spinner');\n",
              "      quickchartButtonEl.classList.add('colab-df-quickchart-complete');\n",
              "    }\n",
              "    (() => {\n",
              "      let quickchartButtonEl =\n",
              "        document.querySelector('#df-4c397844-1d72-40f3-ba73-f6986a5482a1 button');\n",
              "      quickchartButtonEl.style.display =\n",
              "        google.colab.kernel.accessAllowed ? 'block' : 'none';\n",
              "    })();\n",
              "  </script>\n",
              "</div>\n",
              "    </div>\n",
              "  </div>\n"
            ],
            "text/plain": [
              "       Actual    Prediction\n",
              "0     23505.0  27981.320312\n",
              "1     30238.0  17447.589844\n",
              "2     19757.0  16724.000000\n",
              "3     18189.0  10221.500000\n",
              "4      5488.0   6304.000000\n",
              "...       ...           ...\n",
              "1796  24462.0  21154.449219\n",
              "1797   9408.0  12951.209961\n",
              "1798   5488.0   6304.000000\n",
              "1799   4861.0   6209.700195\n",
              "1800  16621.0  17654.009766\n",
              "\n",
              "[1801 rows x 2 columns]"
            ]
          },
          "execution_count": 809,
          "metadata": {},
          "output_type": "execute_result"
        }
      ],
      "source": [
        "pd.DataFrame({'Actual': y_test['price'].values, 'Prediction': y_test_pred}).round(2)"
      ]
    },
    {
      "cell_type": "markdown",
      "metadata": {
        "id": "URgzSvsqtYac"
      },
      "source": [
        "KNN Regression"
      ]
    },
    {
      "cell_type": "code",
      "execution_count": null,
      "metadata": {
        "colab": {
          "base_uri": "https://localhost:8080/"
        },
        "id": "IBD4wSmztYCY",
        "outputId": "c5094cc1-c5c1-47ae-8356-224b9972dc4c"
      },
      "outputs": [
        {
          "name": "stdout",
          "output_type": "stream",
          "text": [
            "MSE Train:  26403172.132118855\n",
            "MAE Train:  3323.44698694807\n",
            "R2 Train:  0.7898093964430706\n",
            "MSE Test:  41803840.122998334\n",
            "MAE Test:  4202.738256524153\n",
            "R2 Test:  0.6815368067223864\n"
          ]
        }
      ],
      "source": [
        "from sklearn.neighbors import KNeighborsRegressor\n",
        "\n",
        "kr = KNeighborsRegressor()\n",
        "kr.fit(x_train_scaled, y_train)\n",
        "\n",
        "# Prediksi pada data latih\n",
        "y_train_pred = kr.predict(x_train_scaled)\n",
        "\n",
        "# Prediksi pada data uji\n",
        "y_test_pred = kr.predict(x_test_scaled)\n",
        "\n",
        "# Evaluasi pada data latih\n",
        "print(\"MSE Train: \", mean_squared_error(y_train, y_train_pred))\n",
        "print(\"MAE Train: \", mean_absolute_error(y_train, y_train_pred))\n",
        "print(\"R2 Train: \", r2_score(y_train, y_train_pred))\n",
        "\n",
        "# Evaluasi pada data uji\n",
        "print(\"MSE Test: \", mean_squared_error(y_test, y_test_pred))\n",
        "print(\"MAE Test: \", mean_absolute_error(y_test, y_test_pred))\n",
        "print(\"R2 Test: \", r2_score(y_test, y_test_pred))"
      ]
    },
    {
      "cell_type": "markdown",
      "metadata": {
        "id": "f4CaabaOGbIq"
      },
      "source": [
        "### <b><span style='color:#85BB65'>|</span> Hyperparameter Tuning (Random Forest Model)</b>"
      ]
    },
    {
      "cell_type": "code",
      "execution_count": null,
      "metadata": {
        "colab": {
          "base_uri": "https://localhost:8080/"
        },
        "id": "6ZHC5rFlGjzv",
        "outputId": "829f8a0e-741e-4223-fcaf-6ba876e2c6a8"
      },
      "outputs": [
        {
          "name": "stdout",
          "output_type": "stream",
          "text": [
            "{'max_depth': 8, 'max_features': 8, 'min_samples_split': 3, 'n_estimators': 50}\n"
          ]
        }
      ],
      "source": [
        "y_train_flattened = y_train.values.ravel()\n",
        "\n",
        "param_grid = {\n",
        "    'max_depth': [3, 5, 6, 7, 8],\n",
        "    'max_features': [2, 4, 6, 7, 8, 9],\n",
        "    'n_estimators' : [50, 100],\n",
        "    'min_samples_split': [3, 5, 6, 7]\n",
        "}\n",
        "\n",
        "randFor_grid = GridSearchCV(RandomForestRegressor(), param_grid, cv = 5, refit = True, verbose = 0)\n",
        "randFor_grid.fit(x_train_scaled, y_train_flattened)\n",
        "print(randFor_grid.best_params_)"
      ]
    },
    {
      "cell_type": "code",
      "execution_count": null,
      "metadata": {
        "colab": {
          "base_uri": "https://localhost:8080/"
        },
        "id": "gNAQKgF_R8Yd",
        "outputId": "abc0660d-9078-4b9c-b498-71fd4ff7b945"
      },
      "outputs": [
        {
          "name": "stdout",
          "output_type": "stream",
          "text": [
            "MSE Train:  33015727.669276394\n",
            "MAE Train:  4230.77070091327\n",
            "R2 Train:  0.7371681065081358\n",
            "MSE Test:  40759265.547639795\n",
            "MAE Test:  4659.454620319979\n",
            "R2 Test:  0.689494414298784\n"
          ]
        }
      ],
      "source": [
        "rf_reg = RandomForestRegressor(max_depth = 8, max_features = 9, min_samples_split = 3, n_estimators = 100)\n",
        "rf_reg.fit(x_train_scaled, y_train_flattened)\n",
        "\n",
        "# Prediksi pada data latih\n",
        "y_train_pred = rf_reg.predict(x_train_scaled)\n",
        "\n",
        "# Prediksi pada data uji\n",
        "y_test_pred = rf_reg.predict(x_test_scaled)\n",
        "\n",
        "# Evaluasi pada data latih\n",
        "print(\"MSE Train: \", mean_squared_error(y_train_flattened, y_train_pred))\n",
        "print(\"MAE Train: \", mean_absolute_error(y_train_flattened, y_train_pred))\n",
        "print(\"R2 Train: \", r2_score(y_train_flattened, y_train_pred))\n",
        "\n",
        "# Evaluasi pada data uji\n",
        "print(\"MSE Test: \", mean_squared_error(y_test, y_test_pred))\n",
        "print(\"MAE Test: \", mean_absolute_error(y_test, y_test_pred))\n",
        "print(\"R2 Test: \", r2_score(y_test, y_test_pred))"
      ]
    },
    {
      "cell_type": "markdown",
      "metadata": {
        "id": "CAT6oLjCrMVm"
      },
      "source": [
        "Insight:\n",
        "\n",
        "Kami memilih model Random Forest karena dari hasil evaluasi yang diberikan, model ini menunjukkan kinerja yang lebih baik dibandingkan dengan model lainnya, baik pada data latih maupun data uji. Random Forest memberikan MSE yang lebih rendah dan R^2 yang lebih tinggi, menunjukkan bahwa model ini mampu menyesuaikan data dengan lebih baik dan menghasilkan prediksi yang lebih akurat."
      ]
    },
    {
      "cell_type": "markdown",
      "metadata": {
        "id": "rgTo5xfPuCja"
      },
      "source": [
        "### <b><span style='color:#85BB65'>|</span> Save Model</b>"
      ]
    },
    {
      "cell_type": "code",
      "execution_count": null,
      "metadata": {
        "id": "Of3qcZjAt31S"
      },
      "outputs": [],
      "source": [
        "#menyimpan model terpilih\n",
        "#import pickle\n",
        "#pickle.dump(rf_reg, open(\"RF_model.pkl\",\"wb\"))"
      ]
    }
  ],
  "metadata": {
    "colab": {
      "provenance": [],
      "toc_visible": true
    },
    "kernelspec": {
      "display_name": "main-ds",
      "language": "python",
      "name": "python3"
    },
    "language_info": {
      "codemirror_mode": {
        "name": "ipython",
        "version": 3
      },
      "file_extension": ".py",
      "mimetype": "text/x-python",
      "name": "python",
      "nbconvert_exporter": "python",
      "pygments_lexer": "ipython3",
      "version": "3.9.18"
    }
  },
  "nbformat": 4,
  "nbformat_minor": 0
}
